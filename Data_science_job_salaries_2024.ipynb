{
  "nbformat": 4,
  "nbformat_minor": 0,
  "metadata": {
    "colab": {
      "provenance": [],
      "authorship_tag": "ABX9TyMKAf04tpTZ3hRi+rZ/e/Rg",
      "include_colab_link": true
    },
    "kernelspec": {
      "name": "python3",
      "display_name": "Python 3"
    },
    "language_info": {
      "name": "python"
    }
  },
  "cells": [
    {
      "cell_type": "markdown",
      "metadata": {
        "id": "view-in-github",
        "colab_type": "text"
      },
      "source": [
        "<a href=\"https://colab.research.google.com/github/GDharan10/Dataset13_Data_science_job_salaries_2024/blob/main/Data_science_job_salaries_2024.ipynb\" target=\"_parent\"><img src=\"https://colab.research.google.com/assets/colab-badge.svg\" alt=\"Open In Colab\"/></a>"
      ]
    },
    {
      "cell_type": "markdown",
      "source": [
        "# **Librarys**"
      ],
      "metadata": {
        "id": "ytO-rNujRrn5"
      }
    },
    {
      "cell_type": "code",
      "source": [
        "import pandas as pd\n",
        "import numpy as np\n",
        "\n",
        "#Connections\n",
        "from google.colab import drive\n",
        "\n",
        "#Statistic\n",
        "from scipy import stats\n",
        "\n",
        "#Visualization\n",
        "import matplotlib.pyplot as plt\n",
        "import seaborn as sns\n",
        "\n",
        "#Preprocessing\n",
        "from sklearn.preprocessing import OrdinalEncoder, OneHotEncoder, StandardScaler\n",
        "\n",
        "#Machine Learning\n",
        "from sklearn.model_selection import train_test_split\n",
        "from sklearn.ensemble import AdaBoostRegressor\n",
        "from sklearn.metrics import mean_squared_error"
      ],
      "metadata": {
        "id": "3BkGywJ_3nL2"
      },
      "execution_count": 54,
      "outputs": []
    },
    {
      "cell_type": "markdown",
      "source": [
        "# **Connections**"
      ],
      "metadata": {
        "id": "bsJua4sep0or"
      }
    },
    {
      "cell_type": "code",
      "source": [
        "#Google drive\n",
        "drive.mount('/content/drive')"
      ],
      "metadata": {
        "colab": {
          "base_uri": "https://localhost:8080/"
        },
        "id": "cW3oYIvMpm3S",
        "outputId": "ffa35bf8-f6fa-452b-deff-ffacd3199f7e"
      },
      "execution_count": 5,
      "outputs": [
        {
          "output_type": "stream",
          "name": "stdout",
          "text": [
            "Mounted at /content/drive\n"
          ]
        }
      ]
    },
    {
      "cell_type": "markdown",
      "source": [
        "# **Loading dataset**"
      ],
      "metadata": {
        "id": "SuTQjCpap3mn"
      }
    },
    {
      "cell_type": "code",
      "source": [
        "#Google drive\n",
        "file_path = '/content/drive/My Drive/DTM15/Dataset/salaries.csv'\n",
        "df = pd.read_csv(file_path)"
      ],
      "metadata": {
        "id": "Xb9N8heTprLC"
      },
      "execution_count": 6,
      "outputs": []
    },
    {
      "cell_type": "code",
      "source": [
        "df.head()"
      ],
      "metadata": {
        "colab": {
          "base_uri": "https://localhost:8080/",
          "height": 382
        },
        "id": "Od_Te2vvqCa4",
        "outputId": "a9ed38f6-badc-4a09-c15d-c38d86e6e642"
      },
      "execution_count": 7,
      "outputs": [
        {
          "output_type": "execute_result",
          "data": {
            "text/plain": [
              "   work_year experience_level employment_type                  job_title  \\\n",
              "0       2024               SE              FT                AI Engineer   \n",
              "1       2024               SE              FT  Machine Learning Engineer   \n",
              "2       2024               SE              FT  Machine Learning Engineer   \n",
              "3       2024               SE              FT  Machine Learning Engineer   \n",
              "4       2024               SE              FT  Machine Learning Engineer   \n",
              "\n",
              "   salary salary_currency  salary_in_usd employee_residence  remote_ratio  \\\n",
              "0   90000             USD          90000                 AE             0   \n",
              "1  180500             USD         180500                 US             0   \n",
              "2   96200             USD          96200                 US             0   \n",
              "3  235000             USD         235000                 AU             0   \n",
              "4  175000             USD         175000                 AU             0   \n",
              "\n",
              "  company_location company_size  \n",
              "0               AE            L  \n",
              "1               US            M  \n",
              "2               US            M  \n",
              "3               AU            M  \n",
              "4               AU            M  "
            ],
            "text/html": [
              "\n",
              "  <div id=\"df-895deb17-9e93-4635-9738-995db51e3785\" class=\"colab-df-container\">\n",
              "    <div>\n",
              "<style scoped>\n",
              "    .dataframe tbody tr th:only-of-type {\n",
              "        vertical-align: middle;\n",
              "    }\n",
              "\n",
              "    .dataframe tbody tr th {\n",
              "        vertical-align: top;\n",
              "    }\n",
              "\n",
              "    .dataframe thead th {\n",
              "        text-align: right;\n",
              "    }\n",
              "</style>\n",
              "<table border=\"1\" class=\"dataframe\">\n",
              "  <thead>\n",
              "    <tr style=\"text-align: right;\">\n",
              "      <th></th>\n",
              "      <th>work_year</th>\n",
              "      <th>experience_level</th>\n",
              "      <th>employment_type</th>\n",
              "      <th>job_title</th>\n",
              "      <th>salary</th>\n",
              "      <th>salary_currency</th>\n",
              "      <th>salary_in_usd</th>\n",
              "      <th>employee_residence</th>\n",
              "      <th>remote_ratio</th>\n",
              "      <th>company_location</th>\n",
              "      <th>company_size</th>\n",
              "    </tr>\n",
              "  </thead>\n",
              "  <tbody>\n",
              "    <tr>\n",
              "      <th>0</th>\n",
              "      <td>2024</td>\n",
              "      <td>SE</td>\n",
              "      <td>FT</td>\n",
              "      <td>AI Engineer</td>\n",
              "      <td>90000</td>\n",
              "      <td>USD</td>\n",
              "      <td>90000</td>\n",
              "      <td>AE</td>\n",
              "      <td>0</td>\n",
              "      <td>AE</td>\n",
              "      <td>L</td>\n",
              "    </tr>\n",
              "    <tr>\n",
              "      <th>1</th>\n",
              "      <td>2024</td>\n",
              "      <td>SE</td>\n",
              "      <td>FT</td>\n",
              "      <td>Machine Learning Engineer</td>\n",
              "      <td>180500</td>\n",
              "      <td>USD</td>\n",
              "      <td>180500</td>\n",
              "      <td>US</td>\n",
              "      <td>0</td>\n",
              "      <td>US</td>\n",
              "      <td>M</td>\n",
              "    </tr>\n",
              "    <tr>\n",
              "      <th>2</th>\n",
              "      <td>2024</td>\n",
              "      <td>SE</td>\n",
              "      <td>FT</td>\n",
              "      <td>Machine Learning Engineer</td>\n",
              "      <td>96200</td>\n",
              "      <td>USD</td>\n",
              "      <td>96200</td>\n",
              "      <td>US</td>\n",
              "      <td>0</td>\n",
              "      <td>US</td>\n",
              "      <td>M</td>\n",
              "    </tr>\n",
              "    <tr>\n",
              "      <th>3</th>\n",
              "      <td>2024</td>\n",
              "      <td>SE</td>\n",
              "      <td>FT</td>\n",
              "      <td>Machine Learning Engineer</td>\n",
              "      <td>235000</td>\n",
              "      <td>USD</td>\n",
              "      <td>235000</td>\n",
              "      <td>AU</td>\n",
              "      <td>0</td>\n",
              "      <td>AU</td>\n",
              "      <td>M</td>\n",
              "    </tr>\n",
              "    <tr>\n",
              "      <th>4</th>\n",
              "      <td>2024</td>\n",
              "      <td>SE</td>\n",
              "      <td>FT</td>\n",
              "      <td>Machine Learning Engineer</td>\n",
              "      <td>175000</td>\n",
              "      <td>USD</td>\n",
              "      <td>175000</td>\n",
              "      <td>AU</td>\n",
              "      <td>0</td>\n",
              "      <td>AU</td>\n",
              "      <td>M</td>\n",
              "    </tr>\n",
              "  </tbody>\n",
              "</table>\n",
              "</div>\n",
              "    <div class=\"colab-df-buttons\">\n",
              "\n",
              "  <div class=\"colab-df-container\">\n",
              "    <button class=\"colab-df-convert\" onclick=\"convertToInteractive('df-895deb17-9e93-4635-9738-995db51e3785')\"\n",
              "            title=\"Convert this dataframe to an interactive table.\"\n",
              "            style=\"display:none;\">\n",
              "\n",
              "  <svg xmlns=\"http://www.w3.org/2000/svg\" height=\"24px\" viewBox=\"0 -960 960 960\">\n",
              "    <path d=\"M120-120v-720h720v720H120Zm60-500h600v-160H180v160Zm220 220h160v-160H400v160Zm0 220h160v-160H400v160ZM180-400h160v-160H180v160Zm440 0h160v-160H620v160ZM180-180h160v-160H180v160Zm440 0h160v-160H620v160Z\"/>\n",
              "  </svg>\n",
              "    </button>\n",
              "\n",
              "  <style>\n",
              "    .colab-df-container {\n",
              "      display:flex;\n",
              "      gap: 12px;\n",
              "    }\n",
              "\n",
              "    .colab-df-convert {\n",
              "      background-color: #E8F0FE;\n",
              "      border: none;\n",
              "      border-radius: 50%;\n",
              "      cursor: pointer;\n",
              "      display: none;\n",
              "      fill: #1967D2;\n",
              "      height: 32px;\n",
              "      padding: 0 0 0 0;\n",
              "      width: 32px;\n",
              "    }\n",
              "\n",
              "    .colab-df-convert:hover {\n",
              "      background-color: #E2EBFA;\n",
              "      box-shadow: 0px 1px 2px rgba(60, 64, 67, 0.3), 0px 1px 3px 1px rgba(60, 64, 67, 0.15);\n",
              "      fill: #174EA6;\n",
              "    }\n",
              "\n",
              "    .colab-df-buttons div {\n",
              "      margin-bottom: 4px;\n",
              "    }\n",
              "\n",
              "    [theme=dark] .colab-df-convert {\n",
              "      background-color: #3B4455;\n",
              "      fill: #D2E3FC;\n",
              "    }\n",
              "\n",
              "    [theme=dark] .colab-df-convert:hover {\n",
              "      background-color: #434B5C;\n",
              "      box-shadow: 0px 1px 3px 1px rgba(0, 0, 0, 0.15);\n",
              "      filter: drop-shadow(0px 1px 2px rgba(0, 0, 0, 0.3));\n",
              "      fill: #FFFFFF;\n",
              "    }\n",
              "  </style>\n",
              "\n",
              "    <script>\n",
              "      const buttonEl =\n",
              "        document.querySelector('#df-895deb17-9e93-4635-9738-995db51e3785 button.colab-df-convert');\n",
              "      buttonEl.style.display =\n",
              "        google.colab.kernel.accessAllowed ? 'block' : 'none';\n",
              "\n",
              "      async function convertToInteractive(key) {\n",
              "        const element = document.querySelector('#df-895deb17-9e93-4635-9738-995db51e3785');\n",
              "        const dataTable =\n",
              "          await google.colab.kernel.invokeFunction('convertToInteractive',\n",
              "                                                    [key], {});\n",
              "        if (!dataTable) return;\n",
              "\n",
              "        const docLinkHtml = 'Like what you see? Visit the ' +\n",
              "          '<a target=\"_blank\" href=https://colab.research.google.com/notebooks/data_table.ipynb>data table notebook</a>'\n",
              "          + ' to learn more about interactive tables.';\n",
              "        element.innerHTML = '';\n",
              "        dataTable['output_type'] = 'display_data';\n",
              "        await google.colab.output.renderOutput(dataTable, element);\n",
              "        const docLink = document.createElement('div');\n",
              "        docLink.innerHTML = docLinkHtml;\n",
              "        element.appendChild(docLink);\n",
              "      }\n",
              "    </script>\n",
              "  </div>\n",
              "\n",
              "\n",
              "<div id=\"df-25ea1888-031c-4f18-8e8f-263cada55c49\">\n",
              "  <button class=\"colab-df-quickchart\" onclick=\"quickchart('df-25ea1888-031c-4f18-8e8f-263cada55c49')\"\n",
              "            title=\"Suggest charts\"\n",
              "            style=\"display:none;\">\n",
              "\n",
              "<svg xmlns=\"http://www.w3.org/2000/svg\" height=\"24px\"viewBox=\"0 0 24 24\"\n",
              "     width=\"24px\">\n",
              "    <g>\n",
              "        <path d=\"M19 3H5c-1.1 0-2 .9-2 2v14c0 1.1.9 2 2 2h14c1.1 0 2-.9 2-2V5c0-1.1-.9-2-2-2zM9 17H7v-7h2v7zm4 0h-2V7h2v10zm4 0h-2v-4h2v4z\"/>\n",
              "    </g>\n",
              "</svg>\n",
              "  </button>\n",
              "\n",
              "<style>\n",
              "  .colab-df-quickchart {\n",
              "      --bg-color: #E8F0FE;\n",
              "      --fill-color: #1967D2;\n",
              "      --hover-bg-color: #E2EBFA;\n",
              "      --hover-fill-color: #174EA6;\n",
              "      --disabled-fill-color: #AAA;\n",
              "      --disabled-bg-color: #DDD;\n",
              "  }\n",
              "\n",
              "  [theme=dark] .colab-df-quickchart {\n",
              "      --bg-color: #3B4455;\n",
              "      --fill-color: #D2E3FC;\n",
              "      --hover-bg-color: #434B5C;\n",
              "      --hover-fill-color: #FFFFFF;\n",
              "      --disabled-bg-color: #3B4455;\n",
              "      --disabled-fill-color: #666;\n",
              "  }\n",
              "\n",
              "  .colab-df-quickchart {\n",
              "    background-color: var(--bg-color);\n",
              "    border: none;\n",
              "    border-radius: 50%;\n",
              "    cursor: pointer;\n",
              "    display: none;\n",
              "    fill: var(--fill-color);\n",
              "    height: 32px;\n",
              "    padding: 0;\n",
              "    width: 32px;\n",
              "  }\n",
              "\n",
              "  .colab-df-quickchart:hover {\n",
              "    background-color: var(--hover-bg-color);\n",
              "    box-shadow: 0 1px 2px rgba(60, 64, 67, 0.3), 0 1px 3px 1px rgba(60, 64, 67, 0.15);\n",
              "    fill: var(--button-hover-fill-color);\n",
              "  }\n",
              "\n",
              "  .colab-df-quickchart-complete:disabled,\n",
              "  .colab-df-quickchart-complete:disabled:hover {\n",
              "    background-color: var(--disabled-bg-color);\n",
              "    fill: var(--disabled-fill-color);\n",
              "    box-shadow: none;\n",
              "  }\n",
              "\n",
              "  .colab-df-spinner {\n",
              "    border: 2px solid var(--fill-color);\n",
              "    border-color: transparent;\n",
              "    border-bottom-color: var(--fill-color);\n",
              "    animation:\n",
              "      spin 1s steps(1) infinite;\n",
              "  }\n",
              "\n",
              "  @keyframes spin {\n",
              "    0% {\n",
              "      border-color: transparent;\n",
              "      border-bottom-color: var(--fill-color);\n",
              "      border-left-color: var(--fill-color);\n",
              "    }\n",
              "    20% {\n",
              "      border-color: transparent;\n",
              "      border-left-color: var(--fill-color);\n",
              "      border-top-color: var(--fill-color);\n",
              "    }\n",
              "    30% {\n",
              "      border-color: transparent;\n",
              "      border-left-color: var(--fill-color);\n",
              "      border-top-color: var(--fill-color);\n",
              "      border-right-color: var(--fill-color);\n",
              "    }\n",
              "    40% {\n",
              "      border-color: transparent;\n",
              "      border-right-color: var(--fill-color);\n",
              "      border-top-color: var(--fill-color);\n",
              "    }\n",
              "    60% {\n",
              "      border-color: transparent;\n",
              "      border-right-color: var(--fill-color);\n",
              "    }\n",
              "    80% {\n",
              "      border-color: transparent;\n",
              "      border-right-color: var(--fill-color);\n",
              "      border-bottom-color: var(--fill-color);\n",
              "    }\n",
              "    90% {\n",
              "      border-color: transparent;\n",
              "      border-bottom-color: var(--fill-color);\n",
              "    }\n",
              "  }\n",
              "</style>\n",
              "\n",
              "  <script>\n",
              "    async function quickchart(key) {\n",
              "      const quickchartButtonEl =\n",
              "        document.querySelector('#' + key + ' button');\n",
              "      quickchartButtonEl.disabled = true;  // To prevent multiple clicks.\n",
              "      quickchartButtonEl.classList.add('colab-df-spinner');\n",
              "      try {\n",
              "        const charts = await google.colab.kernel.invokeFunction(\n",
              "            'suggestCharts', [key], {});\n",
              "      } catch (error) {\n",
              "        console.error('Error during call to suggestCharts:', error);\n",
              "      }\n",
              "      quickchartButtonEl.classList.remove('colab-df-spinner');\n",
              "      quickchartButtonEl.classList.add('colab-df-quickchart-complete');\n",
              "    }\n",
              "    (() => {\n",
              "      let quickchartButtonEl =\n",
              "        document.querySelector('#df-25ea1888-031c-4f18-8e8f-263cada55c49 button');\n",
              "      quickchartButtonEl.style.display =\n",
              "        google.colab.kernel.accessAllowed ? 'block' : 'none';\n",
              "    })();\n",
              "  </script>\n",
              "</div>\n",
              "\n",
              "    </div>\n",
              "  </div>\n"
            ],
            "application/vnd.google.colaboratory.intrinsic+json": {
              "type": "dataframe",
              "variable_name": "df",
              "summary": "{\n  \"name\": \"df\",\n  \"rows\": 13972,\n  \"fields\": [\n    {\n      \"column\": \"work_year\",\n      \"properties\": {\n        \"dtype\": \"number\",\n        \"std\": 0,\n        \"min\": 2020,\n        \"max\": 2024,\n        \"num_unique_values\": 5,\n        \"samples\": [\n          2023,\n          2021,\n          2022\n        ],\n        \"semantic_type\": \"\",\n        \"description\": \"\"\n      }\n    },\n    {\n      \"column\": \"experience_level\",\n      \"properties\": {\n        \"dtype\": \"category\",\n        \"num_unique_values\": 4,\n        \"samples\": [\n          \"MI\",\n          \"EX\",\n          \"SE\"\n        ],\n        \"semantic_type\": \"\",\n        \"description\": \"\"\n      }\n    },\n    {\n      \"column\": \"employment_type\",\n      \"properties\": {\n        \"dtype\": \"category\",\n        \"num_unique_values\": 4,\n        \"samples\": [\n          \"CT\",\n          \"FL\",\n          \"FT\"\n        ],\n        \"semantic_type\": \"\",\n        \"description\": \"\"\n      }\n    },\n    {\n      \"column\": \"job_title\",\n      \"properties\": {\n        \"dtype\": \"category\",\n        \"num_unique_values\": 146,\n        \"samples\": [\n          \"Data Infrastructure Engineer\",\n          \"Financial Data Analyst\",\n          \"AI Architect\"\n        ],\n        \"semantic_type\": \"\",\n        \"description\": \"\"\n      }\n    },\n    {\n      \"column\": \"salary\",\n      \"properties\": {\n        \"dtype\": \"number\",\n        \"std\": 366154,\n        \"min\": 14000,\n        \"max\": 30400000,\n        \"num_unique_values\": 2237,\n        \"samples\": [\n          123471,\n          202800,\n          286000\n        ],\n        \"semantic_type\": \"\",\n        \"description\": \"\"\n      }\n    },\n    {\n      \"column\": \"salary_currency\",\n      \"properties\": {\n        \"dtype\": \"category\",\n        \"num_unique_values\": 23,\n        \"samples\": [\n          \"HKD\",\n          \"BRL\",\n          \"USD\"\n        ],\n        \"semantic_type\": \"\",\n        \"description\": \"\"\n      }\n    },\n    {\n      \"column\": \"salary_in_usd\",\n      \"properties\": {\n        \"dtype\": \"number\",\n        \"std\": 68634,\n        \"min\": 15000,\n        \"max\": 800000,\n        \"num_unique_values\": 2596,\n        \"samples\": [\n          324000,\n          46755,\n          86682\n        ],\n        \"semantic_type\": \"\",\n        \"description\": \"\"\n      }\n    },\n    {\n      \"column\": \"employee_residence\",\n      \"properties\": {\n        \"dtype\": \"category\",\n        \"num_unique_values\": 88,\n        \"samples\": [\n          \"DK\",\n          \"AE\",\n          \"IT\"\n        ],\n        \"semantic_type\": \"\",\n        \"description\": \"\"\n      }\n    },\n    {\n      \"column\": \"remote_ratio\",\n      \"properties\": {\n        \"dtype\": \"number\",\n        \"std\": 46,\n        \"min\": 0,\n        \"max\": 100,\n        \"num_unique_values\": 3,\n        \"samples\": [\n          0,\n          100,\n          50\n        ],\n        \"semantic_type\": \"\",\n        \"description\": \"\"\n      }\n    },\n    {\n      \"column\": \"company_location\",\n      \"properties\": {\n        \"dtype\": \"category\",\n        \"num_unique_values\": 77,\n        \"samples\": [\n          \"LT\",\n          \"VN\",\n          \"DE\"\n        ],\n        \"semantic_type\": \"\",\n        \"description\": \"\"\n      }\n    },\n    {\n      \"column\": \"company_size\",\n      \"properties\": {\n        \"dtype\": \"category\",\n        \"num_unique_values\": 3,\n        \"samples\": [\n          \"L\",\n          \"M\",\n          \"S\"\n        ],\n        \"semantic_type\": \"\",\n        \"description\": \"\"\n      }\n    }\n  ]\n}"
            }
          },
          "metadata": {},
          "execution_count": 7
        }
      ]
    },
    {
      "cell_type": "markdown",
      "source": [
        "# **DataFrame observation**"
      ],
      "metadata": {
        "id": "6VEnFtqMqM_R"
      }
    },
    {
      "cell_type": "code",
      "source": [
        "df.columns"
      ],
      "metadata": {
        "colab": {
          "base_uri": "https://localhost:8080/"
        },
        "id": "IuYDEZE4qjgg",
        "outputId": "f3efa35f-4d0b-48dc-ef7e-dbbf8f62e205"
      },
      "execution_count": 8,
      "outputs": [
        {
          "output_type": "execute_result",
          "data": {
            "text/plain": [
              "Index(['work_year', 'experience_level', 'employment_type', 'job_title',\n",
              "       'salary', 'salary_currency', 'salary_in_usd', 'employee_residence',\n",
              "       'remote_ratio', 'company_location', 'company_size'],\n",
              "      dtype='object')"
            ]
          },
          "metadata": {},
          "execution_count": 8
        }
      ]
    },
    {
      "cell_type": "code",
      "source": [
        "df['work_year'].unique()"
      ],
      "metadata": {
        "colab": {
          "base_uri": "https://localhost:8080/"
        },
        "id": "nKpPxDjhrDbw",
        "outputId": "db736b95-c899-4e4a-fbf7-dadb48cc7531"
      },
      "execution_count": 9,
      "outputs": [
        {
          "output_type": "execute_result",
          "data": {
            "text/plain": [
              "array([2024, 2023, 2022, 2020, 2021])"
            ]
          },
          "metadata": {},
          "execution_count": 9
        }
      ]
    },
    {
      "cell_type": "code",
      "source": [
        "df['experience_level'].unique()"
      ],
      "metadata": {
        "colab": {
          "base_uri": "https://localhost:8080/"
        },
        "id": "hxljcroNqp4Q",
        "outputId": "748887b3-1793-4a76-a601-d923bfc62c3f"
      },
      "execution_count": 10,
      "outputs": [
        {
          "output_type": "execute_result",
          "data": {
            "text/plain": [
              "array(['SE', 'MI', 'EN', 'EX'], dtype=object)"
            ]
          },
          "metadata": {},
          "execution_count": 10
        }
      ]
    },
    {
      "cell_type": "code",
      "source": [
        "df['employment_type'].unique()"
      ],
      "metadata": {
        "colab": {
          "base_uri": "https://localhost:8080/"
        },
        "id": "eOBa-oM2rLUw",
        "outputId": "c5be0a68-1d65-41e8-f427-97ed57c0e889"
      },
      "execution_count": 11,
      "outputs": [
        {
          "output_type": "execute_result",
          "data": {
            "text/plain": [
              "array(['FT', 'CT', 'PT', 'FL'], dtype=object)"
            ]
          },
          "metadata": {},
          "execution_count": 11
        }
      ]
    },
    {
      "cell_type": "code",
      "source": [
        "df['job_title'].unique()"
      ],
      "metadata": {
        "id": "CEupKflMrLMo",
        "colab": {
          "base_uri": "https://localhost:8080/"
        },
        "outputId": "70fe4f70-a229-4338-a270-5ea75d07a4d7"
      },
      "execution_count": 12,
      "outputs": [
        {
          "output_type": "execute_result",
          "data": {
            "text/plain": [
              "array(['AI Engineer', 'Machine Learning Engineer',\n",
              "       'Business Intelligence Developer', 'Data Engineer',\n",
              "       'Data Scientist', 'Cloud Database Engineer', 'Research Engineer',\n",
              "       'Data Analyst', 'Machine Learning Scientist', 'Applied Scientist',\n",
              "       'Data Science Manager', 'Research Scientist', 'Prompt Engineer',\n",
              "       'Data Science', 'Data Science Consultant',\n",
              "       'Data Management Analyst', 'Research Analyst',\n",
              "       'Data Operations Analyst', 'Data Management Consultant',\n",
              "       'Business Intelligence Analyst', 'Analytics Engineer',\n",
              "       'Data Quality Analyst', 'Data Architect', 'Data Manager',\n",
              "       'ML Engineer', 'Robotics Software Engineer',\n",
              "       'Machine Learning Researcher', 'AI Architect',\n",
              "       'Data DevOps Engineer', 'Business Intelligence',\n",
              "       'AI Software Engineer', 'Data Integration Engineer',\n",
              "       'Data Operations Specialist', 'BI Analyst', 'Data Product Manager',\n",
              "       'Business Intelligence Engineer', 'Data Specialist',\n",
              "       'AI Research Scientist', 'Data Science Director',\n",
              "       'Data Strategist', 'Big Data Developer', 'BI Developer',\n",
              "       'Quantitative Research Analyst', 'Lead Machine Learning Engineer',\n",
              "       'Machine Learning Research Engineer',\n",
              "       'Data Infrastructure Engineer', 'Data Analytics Lead',\n",
              "       'Business Intelligence Manager', 'Data Analytics Manager',\n",
              "       'Data Developer', 'Data Analytics Consultant',\n",
              "       'AI Research Engineer', 'Data Analytics Specialist',\n",
              "       'ETL Developer', 'Data Science Engineer', 'Big Data Engineer',\n",
              "       'Data Modeler', 'Robotics Engineer', 'Business Intelligence Lead',\n",
              "       'AI Programmer', 'ETL Engineer', 'Head of Data',\n",
              "       'AI Product Manager', 'Data Management Specialist',\n",
              "       'Data Operations Associate', 'AI Developer',\n",
              "       'Admin & Data Analyst', 'AI Scientist',\n",
              "       'Data Integration Specialist', 'Computer Vision Engineer',\n",
              "       'Head of Machine Learning', 'Data Analyst Lead',\n",
              "       'Machine Learning Operations Engineer', 'Data Lead',\n",
              "       'Data Science Practitioner', 'MLOps Engineer',\n",
              "       'Data Integration Developer', 'ML Ops Engineer',\n",
              "       'Data Pipeline Engineer', 'Lead Data Analyst', 'Data Science Lead',\n",
              "       'Director of Data Science', 'Managing Director Data Science',\n",
              "       'Data Visualization Specialist', 'Data Quality Manager',\n",
              "       'Data Product Owner', 'Machine Learning Infrastructure Engineer',\n",
              "       'Business Data Analyst', 'NLP Engineer',\n",
              "       'Marketing Data Scientist', 'Insight Analyst',\n",
              "       'Deep Learning Engineer', 'Machine Learning Modeler',\n",
              "       'BI Data Analyst', 'Business Intelligence Specialist',\n",
              "       'Data Quality Engineer', 'Decision Scientist',\n",
              "       'Financial Data Analyst', 'Data Strategy Manager',\n",
              "       'Data Visualization Engineer', 'Azure Data Engineer',\n",
              "       'Principal Data Scientist', 'Staff Data Analyst',\n",
              "       'Machine Learning Software Engineer', 'Applied Data Scientist',\n",
              "       'Applied Machine Learning Scientist', 'Data Operations Engineer',\n",
              "       'Machine Learning Manager', 'Lead Data Scientist',\n",
              "       'Principal Machine Learning Engineer', 'Principal Data Engineer',\n",
              "       'Power BI Developer', 'Head of Data Science',\n",
              "       'Staff Machine Learning Engineer', 'Staff Data Scientist',\n",
              "       'Consultant Data Engineer', 'Machine Learning Specialist',\n",
              "       'Business Intelligence Data Analyst', 'Data Operations Manager',\n",
              "       'Data Modeller', 'Finance Data Analyst', 'Software Data Engineer',\n",
              "       'Compliance Data Analyst', 'Cloud Data Engineer',\n",
              "       'Analytics Engineering Manager', 'AWS Data Architect',\n",
              "       'Product Data Analyst', 'Machine Learning Developer',\n",
              "       'Data Visualization Analyst', 'Autonomous Vehicle Technician',\n",
              "       'Sales Data Analyst', 'Applied Machine Learning Engineer',\n",
              "       'BI Data Engineer', 'Deep Learning Researcher',\n",
              "       'Big Data Architect', 'Computer Vision Software Engineer',\n",
              "       'Marketing Data Engineer', 'Manager Data Management',\n",
              "       'Data Science Tech Lead', 'Data Scientist Lead',\n",
              "       'Marketing Data Analyst', 'Principal Data Architect',\n",
              "       'Data Analytics Engineer', 'Cloud Data Architect',\n",
              "       'Lead Data Engineer', 'Principal Data Analyst'], dtype=object)"
            ]
          },
          "metadata": {},
          "execution_count": 12
        }
      ]
    },
    {
      "cell_type": "code",
      "source": [
        "df['salary_currency'].unique()"
      ],
      "metadata": {
        "colab": {
          "base_uri": "https://localhost:8080/"
        },
        "id": "-RyZJR_8rLEh",
        "outputId": "2bfb5749-44b7-4651-f640-09db782e229b"
      },
      "execution_count": 13,
      "outputs": [
        {
          "output_type": "execute_result",
          "data": {
            "text/plain": [
              "array(['USD', 'EUR', 'GBP', 'CHF', 'CAD', 'NZD', 'AUD', 'INR', 'PLN',\n",
              "       'BRL', 'PHP', 'TRY', 'NOK', 'JPY', 'ZAR', 'HKD', 'SGD', 'ILS',\n",
              "       'THB', 'HUF', 'DKK', 'MXN', 'CLP'], dtype=object)"
            ]
          },
          "metadata": {},
          "execution_count": 13
        }
      ]
    },
    {
      "cell_type": "code",
      "source": [
        "df['employee_residence'].unique()"
      ],
      "metadata": {
        "colab": {
          "base_uri": "https://localhost:8080/"
        },
        "id": "jXh7AVOSrK77",
        "outputId": "4772ab1d-230f-4e0d-9f7c-4ba531269ec6"
      },
      "execution_count": 14,
      "outputs": [
        {
          "output_type": "execute_result",
          "data": {
            "text/plain": [
              "array(['AE', 'US', 'AU', 'UA', 'LT', 'CA', 'GB', 'NL', 'EG', 'AT', 'DE',\n",
              "       'ES', 'PH', 'FI', 'TR', 'CH', 'OM', 'NZ', 'FR', 'MX', 'PT', 'BA',\n",
              "       'BR', 'AR', 'LV', 'ZA', 'IT', 'IN', 'IE', 'EE', 'MT', 'HR', 'LB',\n",
              "       'RO', 'HU', 'VN', 'NG', 'PL', 'CZ', 'PK', 'UG', 'CO', 'SI', 'GR',\n",
              "       'MU', 'AM', 'TH', 'KR', 'QA', 'RU', 'KE', 'TN', 'GH', 'BE', 'AD',\n",
              "       'EC', 'PE', 'MD', 'SA', 'NO', 'UZ', 'GE', 'JP', 'HK', 'CF', 'IL',\n",
              "       'SG', 'SE', 'KW', 'CY', 'IR', 'AS', 'CN', 'CR', 'CL', 'PR', 'DK',\n",
              "       'BO', 'DO', 'ID', 'MY', 'HN', 'DZ', 'IQ', 'BG', 'JE', 'RS', 'LU'],\n",
              "      dtype=object)"
            ]
          },
          "metadata": {},
          "execution_count": 14
        }
      ]
    },
    {
      "cell_type": "code",
      "source": [
        "df['remote_ratio'].unique()"
      ],
      "metadata": {
        "colab": {
          "base_uri": "https://localhost:8080/"
        },
        "id": "H4q0ltctrK1r",
        "outputId": "e73aa003-da19-4da7-fdd5-873f35e6a584"
      },
      "execution_count": 15,
      "outputs": [
        {
          "output_type": "execute_result",
          "data": {
            "text/plain": [
              "array([  0, 100,  50])"
            ]
          },
          "metadata": {},
          "execution_count": 15
        }
      ]
    },
    {
      "cell_type": "code",
      "source": [
        "df['company_location'].unique()"
      ],
      "metadata": {
        "colab": {
          "base_uri": "https://localhost:8080/"
        },
        "id": "Af-1U_HwrKwS",
        "outputId": "01c21f0a-82bd-4f53-b03c-30ab6d93dea9"
      },
      "execution_count": 16,
      "outputs": [
        {
          "output_type": "execute_result",
          "data": {
            "text/plain": [
              "array(['AE', 'US', 'AU', 'UA', 'LT', 'CA', 'GB', 'NL', 'EG', 'AT', 'DE',\n",
              "       'ES', 'PH', 'FI', 'TR', 'CH', 'OM', 'NZ', 'FR', 'MX', 'PT', 'BA',\n",
              "       'BR', 'AR', 'LV', 'ZA', 'IT', 'AS', 'IE', 'EE', 'IN', 'MT', 'HU',\n",
              "       'LB', 'RO', 'VN', 'NG', 'PL', 'LU', 'GI', 'CO', 'SI', 'GR', 'MU',\n",
              "       'RU', 'KR', 'CZ', 'QA', 'KE', 'DK', 'GH', 'SE', 'AD', 'EC', 'IL',\n",
              "       'SA', 'NO', 'JP', 'HK', 'CF', 'SG', 'TH', 'HR', 'AM', 'PK', 'IR',\n",
              "       'BS', 'PR', 'BE', 'ID', 'MY', 'HN', 'DZ', 'IQ', 'CN', 'CL', 'MD'],\n",
              "      dtype=object)"
            ]
          },
          "metadata": {},
          "execution_count": 16
        }
      ]
    },
    {
      "cell_type": "code",
      "source": [
        "df['company_size'].unique()"
      ],
      "metadata": {
        "colab": {
          "base_uri": "https://localhost:8080/"
        },
        "id": "oz6OPnBhrKrz",
        "outputId": "8a1163d3-8425-432e-a464-46bd62deb4f7"
      },
      "execution_count": 17,
      "outputs": [
        {
          "output_type": "execute_result",
          "data": {
            "text/plain": [
              "array(['L', 'M', 'S'], dtype=object)"
            ]
          },
          "metadata": {},
          "execution_count": 17
        }
      ]
    },
    {
      "cell_type": "code",
      "source": [
        "# Dependent - salary_in_usd\n",
        "\n",
        "continuous_columns = ['salary', 'salary_in_usd']\n",
        "category_columns = ['work_year', 'experience_level', 'employment_type', 'job_title',\n",
        "                    'salary_currency', 'employee_residence', 'remote_ratio', 'company_location', 'company_size']\n",
        "\n",
        "#Supervised Regression"
      ],
      "metadata": {
        "id": "jn6EWcNiqPyb"
      },
      "execution_count": 31,
      "outputs": []
    },
    {
      "cell_type": "markdown",
      "source": [
        "# **Data cleaning**"
      ],
      "metadata": {
        "id": "CysPbLTZtGRp"
      }
    },
    {
      "cell_type": "code",
      "source": [
        "df.info()"
      ],
      "metadata": {
        "colab": {
          "base_uri": "https://localhost:8080/"
        },
        "id": "XJ8Tt30LtH0I",
        "outputId": "fbe67186-57ac-4e94-f1a5-86f47544f0e7"
      },
      "execution_count": 19,
      "outputs": [
        {
          "output_type": "stream",
          "name": "stdout",
          "text": [
            "<class 'pandas.core.frame.DataFrame'>\n",
            "RangeIndex: 13972 entries, 0 to 13971\n",
            "Data columns (total 11 columns):\n",
            " #   Column              Non-Null Count  Dtype \n",
            "---  ------              --------------  ----- \n",
            " 0   work_year           13972 non-null  int64 \n",
            " 1   experience_level    13972 non-null  object\n",
            " 2   employment_type     13972 non-null  object\n",
            " 3   job_title           13972 non-null  object\n",
            " 4   salary              13972 non-null  int64 \n",
            " 5   salary_currency     13972 non-null  object\n",
            " 6   salary_in_usd       13972 non-null  int64 \n",
            " 7   employee_residence  13972 non-null  object\n",
            " 8   remote_ratio        13972 non-null  int64 \n",
            " 9   company_location    13972 non-null  object\n",
            " 10  company_size        13972 non-null  object\n",
            "dtypes: int64(4), object(7)\n",
            "memory usage: 1.2+ MB\n"
          ]
        }
      ]
    },
    {
      "cell_type": "code",
      "source": [
        "df.isnull().sum()"
      ],
      "metadata": {
        "colab": {
          "base_uri": "https://localhost:8080/"
        },
        "id": "-XcOEnWqtKlY",
        "outputId": "71b791ee-bad1-4d2d-eb96-dfd2e0e09328"
      },
      "execution_count": 20,
      "outputs": [
        {
          "output_type": "execute_result",
          "data": {
            "text/plain": [
              "work_year             0\n",
              "experience_level      0\n",
              "employment_type       0\n",
              "job_title             0\n",
              "salary                0\n",
              "salary_currency       0\n",
              "salary_in_usd         0\n",
              "employee_residence    0\n",
              "remote_ratio          0\n",
              "company_location      0\n",
              "company_size          0\n",
              "dtype: int64"
            ]
          },
          "metadata": {},
          "execution_count": 20
        }
      ]
    },
    {
      "cell_type": "code",
      "source": [
        "df.duplicated().sum()"
      ],
      "metadata": {
        "colab": {
          "base_uri": "https://localhost:8080/"
        },
        "id": "LlY6RpGOtO_p",
        "outputId": "2885a062-ab14-43d5-fed9-b8e169226880"
      },
      "execution_count": 21,
      "outputs": [
        {
          "output_type": "execute_result",
          "data": {
            "text/plain": [
              "5378"
            ]
          },
          "metadata": {},
          "execution_count": 21
        }
      ]
    },
    {
      "cell_type": "code",
      "source": [
        "df.drop_duplicates(inplace = True)"
      ],
      "metadata": {
        "id": "aLFTdwUptUrB"
      },
      "execution_count": 22,
      "outputs": []
    },
    {
      "cell_type": "code",
      "source": [
        "df['job_title'] = df['job_title'].replace({'Machine Learning Engineer' : 'ML Engineer',\n",
        "                                           'Machine Learning Researcher': 'ML Engineer',\n",
        "                                           'Machine Learning Research Engineer': 'ML Engineer',\n",
        "                                           'MLOps Engineer' : 'ML Engineer',\n",
        "                                           'ML Ops Engineer' : 'ML Engineer',\n",
        "                                           'Lead Machine Learning Engineer' : 'ML Engineer',\n",
        "                                           'Head of Machine Learning' : 'ML Engineer',\n",
        "                                           'Machine Learning Operations Engineer' : 'ML Engineer',\n",
        "                                           'Machine Learning Infrastructure Engineer' : 'ML Engineer',\n",
        "                                           'Machine Learning Modeler' : 'ML Engineer',\n",
        "                                           'Machine Learning Software Engineer' : 'ML Engineer',\n",
        "                                           'Applied Machine Learning Scientist' : 'ML Engineer',\n",
        "                                           'Machine Learning Manager' : 'ML Engineer',\n",
        "                                           'Principal Machine Learning Engineer' : 'ML Engineer',\n",
        "                                           'Staff Machine Learning Engineer' : 'ML Engineer',\n",
        "                                           'Machine Learning Specialist' : 'ML Engineer',\n",
        "                                           'Machine Learning Developer' : 'ML Engineer',\n",
        "                                           'Applied Machine Learning Engineer' : 'ML Engineer',\n",
        "                                           'Machine Learning Scientist' : 'ML Engineer',\n",
        "\n",
        "                                           'Data Management Analyst' : 'Data Analyst',\n",
        "                                           'Data Operations Analyst' : 'Data Analyst',\n",
        "                                           'Data Quality Analyst' : 'Data Analyst',\n",
        "                                           'Admin & Data Analyst' : 'Data Analyst',\n",
        "                                           'Data Analyst Lead' : 'Data Analyst',\n",
        "                                           'Lead Data Analyst' : 'Data Analyst',\n",
        "                                           'Business Data Analyst' : 'Data Analyst',\n",
        "                                           'Financial Data Analyst' : 'Data Analyst',\n",
        "                                           'Staff Data Analyst' : 'Data Analyst',\n",
        "                                           'Business Intelligence Data Analyst' : 'Data Analyst',\n",
        "                                           'Finance Data Analyst' : 'Data Analyst',\n",
        "                                           'Compliance Data Analyst' : 'Data Analyst',\n",
        "                                           'Product Data Analyst' : 'Data Analyst',\n",
        "                                           'Data Visualization Analyst' : 'Data Analyst',\n",
        "                                           'Sales Data Analyst' : 'Data Analyst',\n",
        "                                           'Marketing Data Analyst' : 'Data Analyst',\n",
        "                                           'Principal Data Analyst' : 'Data Analyst',\n",
        "\n",
        "                                           'Data Science Manager' : 'Data Science',\n",
        "                                           'Data Science Consultant' : 'Data Science',\n",
        "                                           'Data Science Director' : 'Data Science',\n",
        "                                           'Data Science Engineer' : 'Data Science',\n",
        "                                           'Data Science Practitioner' : 'Data Science',\n",
        "                                           'Data Science Lead' : 'Data Science',\n",
        "                                           'Director of Data Science' : 'Data Science',\n",
        "                                           'Managing Director Data Science' : 'Data Science',\n",
        "                                           'Head of Data Science' : 'Data Science',\n",
        "                                           'Data Science Tech Lead' : 'Data Science',\n",
        "\n",
        "                                           'Marketing Data Scientist' : 'Data Scientist',\n",
        "                                           'Principal Data Scientist' : 'Data Scientist',\n",
        "                                           'Applied Data Scientist' : 'Data Scientist',\n",
        "                                           'Lead Data Scientist' : 'Data Scientist',\n",
        "                                           'Staff Data Scientist' : 'Data Scientist',\n",
        "                                           'Data Scientist Lead' : 'Data Scientist',\n",
        "\n",
        "                                           'AI Architect' : 'AI Engineer',\n",
        "                                           'AI Software Engineer' : 'AI Engineer',\n",
        "                                           'AI Research Scientist' : 'AI Engineer',\n",
        "                                           'AI Research Engineer' : 'AI Engineer',\n",
        "                                           'AI Programmer' : 'AI Engineer',\n",
        "                                           'AI Product Manager' : 'AI Engineer',\n",
        "                                           'AI Developer' : 'AI Engineer',\n",
        "                                           'AI Scientist' : 'AI Engineer'\n",
        "\n",
        "                                          })"
      ],
      "metadata": {
        "id": "6MO02aZ3tl9Q"
      },
      "execution_count": 23,
      "outputs": []
    },
    {
      "cell_type": "code",
      "source": [
        "df['job_title'].unique()"
      ],
      "metadata": {
        "colab": {
          "base_uri": "https://localhost:8080/"
        },
        "id": "c19cjiIAtafI",
        "outputId": "2f3fe875-c028-4701-b7e1-cef9d3a466b5"
      },
      "execution_count": 24,
      "outputs": [
        {
          "output_type": "execute_result",
          "data": {
            "text/plain": [
              "array(['AI Engineer', 'ML Engineer', 'Business Intelligence Developer',\n",
              "       'Data Engineer', 'Data Scientist', 'Cloud Database Engineer',\n",
              "       'Research Engineer', 'Data Analyst', 'Applied Scientist',\n",
              "       'Data Science', 'Research Scientist', 'Prompt Engineer',\n",
              "       'Research Analyst', 'Data Management Consultant',\n",
              "       'Business Intelligence Analyst', 'Analytics Engineer',\n",
              "       'Data Architect', 'Data Manager', 'Robotics Software Engineer',\n",
              "       'Data DevOps Engineer', 'Business Intelligence',\n",
              "       'Data Integration Engineer', 'Data Operations Specialist',\n",
              "       'BI Analyst', 'Data Product Manager',\n",
              "       'Business Intelligence Engineer', 'Data Specialist',\n",
              "       'Data Strategist', 'Big Data Developer', 'BI Developer',\n",
              "       'Quantitative Research Analyst', 'Data Infrastructure Engineer',\n",
              "       'Data Analytics Lead', 'Business Intelligence Manager',\n",
              "       'Data Analytics Manager', 'Data Developer',\n",
              "       'Data Analytics Consultant', 'Data Analytics Specialist',\n",
              "       'ETL Developer', 'Big Data Engineer', 'Data Modeler',\n",
              "       'Robotics Engineer', 'Business Intelligence Lead', 'ETL Engineer',\n",
              "       'Head of Data', 'Data Management Specialist',\n",
              "       'Data Operations Associate', 'Data Integration Specialist',\n",
              "       'Computer Vision Engineer', 'Data Lead',\n",
              "       'Data Integration Developer', 'Data Pipeline Engineer',\n",
              "       'Data Visualization Specialist', 'Data Quality Manager',\n",
              "       'Data Product Owner', 'NLP Engineer', 'Insight Analyst',\n",
              "       'Deep Learning Engineer', 'BI Data Analyst',\n",
              "       'Business Intelligence Specialist', 'Data Quality Engineer',\n",
              "       'Decision Scientist', 'Data Strategy Manager',\n",
              "       'Data Visualization Engineer', 'Azure Data Engineer',\n",
              "       'Data Operations Engineer', 'Principal Data Engineer',\n",
              "       'Power BI Developer', 'Consultant Data Engineer',\n",
              "       'Data Operations Manager', 'Data Modeller',\n",
              "       'Software Data Engineer', 'Cloud Data Engineer',\n",
              "       'Analytics Engineering Manager', 'AWS Data Architect',\n",
              "       'Autonomous Vehicle Technician', 'BI Data Engineer',\n",
              "       'Deep Learning Researcher', 'Big Data Architect',\n",
              "       'Computer Vision Software Engineer', 'Marketing Data Engineer',\n",
              "       'Manager Data Management', 'Principal Data Architect',\n",
              "       'Data Analytics Engineer', 'Cloud Data Architect',\n",
              "       'Lead Data Engineer'], dtype=object)"
            ]
          },
          "metadata": {},
          "execution_count": 24
        }
      ]
    },
    {
      "cell_type": "markdown",
      "source": [
        "# **Hypothesis testing**"
      ],
      "metadata": {
        "id": "hxxo9bz2KsDt"
      }
    },
    {
      "cell_type": "code",
      "source": [
        "def hypothesisTesting(df, continuous_columns = [], category_columns = [], sampling_rate = 0.20, sampling_frac=0.05):\n",
        "  df = df\n",
        "  #Central Limit Theorem\n",
        "  oneContinesColumn_result = {}\n",
        "  hypothesis_df = pd.DataFrame(columns=df.columns, index=df.columns)\n",
        "  if continuous_columns:\n",
        "    samplesize = int(sampling_rate * len(df[continuous_columns[0]]))\n",
        "    for column in continuous_columns:\n",
        "      population=df[column].values\n",
        "      population_mean = population.mean()\n",
        "      sample_mean=[]\n",
        "      for i in range(40):\n",
        "        sample=np.random.choice(population,samplesize)\n",
        "        sample_mean.append(sample.mean())\n",
        "      oneContinesColumn_result[column] = {\n",
        "                                          \"Population Mean\": population_mean,\n",
        "                                          \"Sample Means\": {np.mean(sample_mean)}\n",
        "                                          }\n",
        "\n",
        "  #1-Tailed Test\n",
        "  if continuous_columns:\n",
        "    samplesize = int(sampling_rate * len(df[continuous_columns[0]]))\n",
        "    for column in continuous_columns:\n",
        "      H0_accepted = 0\n",
        "      H0_rejected = 0\n",
        "      for i in range(samplesize):\n",
        "        sample=df[column].sample(frac=sampling_frac)\n",
        "        t_test,p_value=stats.ttest_1samp(sample,df[column].mean())\n",
        "        if p_value > 0.5:\n",
        "          H0_accepted += 1\n",
        "        else:\n",
        "          H0_rejected += 1\n",
        "\n",
        "      if H0_accepted > H0_rejected:\n",
        "          oneContinesColumn_result[column].update( {\n",
        "                                            \"H0_accepted\": H0_accepted,\n",
        "                                            \"H0_rejected\": H0_rejected,\n",
        "                                            \"Conclusion\": \"H0 is accepted, Ha is rejected, There is no significant effect\"\n",
        "                                          } )\n",
        "          hypothesis_df[column][column] = \"There is a relationship\"\n",
        "\n",
        "      else:\n",
        "          oneContinesColumn_result[column].update( {\n",
        "                                              \"H0_accepted\": H0_accepted,\n",
        "                                              \"H0_rejected\": H0_rejected,\n",
        "                                              \"Conclusion\": \"H0 is rejected, Ha is accepted, There is a significant effect\"\n",
        "                                              } )\n",
        "          hypothesis_df[column][column] = \"There is no relationship\"\n",
        "\n",
        "\n",
        "  #2-Tailed Test\n",
        "  for i in range(len(continuous_columns) - 1):\n",
        "      column_1 = continuous_columns[i]\n",
        "      for column_2 in continuous_columns[i+1:]:\n",
        "        H0_accepted = 0\n",
        "        H0_rejected = 0\n",
        "        for i in range(20):\n",
        "          sample1 = df[column_1].sample(frac=sampling_frac)\n",
        "          sample2 = df[column_2].sample(frac=sampling_frac)\n",
        "          t_test, p_value = stats.ttest_ind(sample1, sample2)\n",
        "          if p_value > 0.5:\n",
        "            H0_accepted += 1\n",
        "          else:\n",
        "            H0_rejected += 1\n",
        "\n",
        "        if H0_accepted > H0_rejected:\n",
        "          #H0 is accepted, Ha is rejected, There is no significant effect. \"H0_accepted\": H0_accepted, \"H0_rejected\": H0_rejected\n",
        "          hypothesis_df[column_1][column_2] = \"There is a relationship\"\n",
        "          hypothesis_df[column_2][column_1] = \"There is a relationship\"\n",
        "        else:\n",
        "          #H0 is rejected, Ha is accepted, There is a significant effect. \"H0_accepted\": H0_accepted, \"H0_rejected\": H0_rejected\n",
        "            hypothesis_df[column_1][column_2] = \"There is no relationship\"\n",
        "            hypothesis_df[column_2][column_1] = \"There is no relationship\"\n",
        "\n",
        "  #Chi-Square Test\n",
        "  if category_columns:\n",
        "    for i in range(len(category_columns) - 1):\n",
        "        column_1 = category_columns[i]\n",
        "        for column_2 in category_columns[i + 1:]:\n",
        "            data = pd.crosstab(df[column_1], df[column_2])\n",
        "            observed_values = data.values\n",
        "            chi2_stat, p_value, _, _ = stats.chi2_contingency(observed_values)\n",
        "\n",
        "            if p_value > 0.05:\n",
        "                # H0 is accepted, There is no relationship between two columns we're comparing\n",
        "                hypothesis_df[column_1][column_2] = \"There is no relationship\"\n",
        "                hypothesis_df[column_2][column_1] = \"There is no relationship\"\n",
        "            else:\n",
        "                # H0 is rejected, There is a relationship between two columns we're comparing\n",
        "                hypothesis_df[column_1][column_2] = \"There is a relationship\"\n",
        "                hypothesis_df[column_2][column_1] = \"There is a relationship\"\n",
        "\n",
        "  #ANOVA\n",
        "  if continuous_columns and category_columns:\n",
        "    for category_column in category_columns:\n",
        "      for continuous_column in continuous_columns:\n",
        "        group = df[category_column].unique()\n",
        "        data = {}\n",
        "        for i in group:\n",
        "          data[i]=df[continuous_column][df[category_column]==i]\n",
        "\n",
        "        f_value, p_value = stats.f_oneway(*[data[i] for i in group])\n",
        "        if p_value > 0.05:\n",
        "            # H0 is accepted, There is a relationship between two columns we're comparing\n",
        "            hypothesis_df[category_column][continuous_column] = \"There is a relationship\"\n",
        "            hypothesis_df[continuous_column][category_column] = \"There is a relationship\"\n",
        "        else:\n",
        "            # H0 is rejected, There is no relationship between two columns we're comparing\n",
        "            hypothesis_df[category_column][continuous_column] = \"There is no relationship\"\n",
        "            hypothesis_df[continuous_column][category_column] = \"There is no relationship\"\n",
        "\n",
        "  return oneContinesColumn_result, hypothesis_df"
      ],
      "metadata": {
        "id": "Lo0n6SFsFCOP"
      },
      "execution_count": 25,
      "outputs": []
    },
    {
      "cell_type": "code",
      "source": [
        "df.corr()"
      ],
      "metadata": {
        "colab": {
          "base_uri": "https://localhost:8080/",
          "height": 287
        },
        "id": "sLgdTs5ZLX73",
        "outputId": "86bd8c9b-ad45-45c3-c558-3dacf6e9a260"
      },
      "execution_count": 38,
      "outputs": [
        {
          "output_type": "error",
          "ename": "ValueError",
          "evalue": "could not convert string to float: 'SE'",
          "traceback": [
            "\u001b[0;31m---------------------------------------------------------------------------\u001b[0m",
            "\u001b[0;31mValueError\u001b[0m                                Traceback (most recent call last)",
            "\u001b[0;32m<ipython-input-38-2f6f6606aa2c>\u001b[0m in \u001b[0;36m<cell line: 1>\u001b[0;34m()\u001b[0m\n\u001b[0;32m----> 1\u001b[0;31m \u001b[0mdf\u001b[0m\u001b[0;34m.\u001b[0m\u001b[0mcorr\u001b[0m\u001b[0;34m(\u001b[0m\u001b[0;34m)\u001b[0m\u001b[0;34m\u001b[0m\u001b[0;34m\u001b[0m\u001b[0m\n\u001b[0m",
            "\u001b[0;32m/usr/local/lib/python3.10/dist-packages/pandas/core/frame.py\u001b[0m in \u001b[0;36mcorr\u001b[0;34m(self, method, min_periods, numeric_only)\u001b[0m\n\u001b[1;32m  10052\u001b[0m         \u001b[0mcols\u001b[0m \u001b[0;34m=\u001b[0m \u001b[0mdata\u001b[0m\u001b[0;34m.\u001b[0m\u001b[0mcolumns\u001b[0m\u001b[0;34m\u001b[0m\u001b[0;34m\u001b[0m\u001b[0m\n\u001b[1;32m  10053\u001b[0m         \u001b[0midx\u001b[0m \u001b[0;34m=\u001b[0m \u001b[0mcols\u001b[0m\u001b[0;34m.\u001b[0m\u001b[0mcopy\u001b[0m\u001b[0;34m(\u001b[0m\u001b[0;34m)\u001b[0m\u001b[0;34m\u001b[0m\u001b[0;34m\u001b[0m\u001b[0m\n\u001b[0;32m> 10054\u001b[0;31m         \u001b[0mmat\u001b[0m \u001b[0;34m=\u001b[0m \u001b[0mdata\u001b[0m\u001b[0;34m.\u001b[0m\u001b[0mto_numpy\u001b[0m\u001b[0;34m(\u001b[0m\u001b[0mdtype\u001b[0m\u001b[0;34m=\u001b[0m\u001b[0mfloat\u001b[0m\u001b[0;34m,\u001b[0m \u001b[0mna_value\u001b[0m\u001b[0;34m=\u001b[0m\u001b[0mnp\u001b[0m\u001b[0;34m.\u001b[0m\u001b[0mnan\u001b[0m\u001b[0;34m,\u001b[0m \u001b[0mcopy\u001b[0m\u001b[0;34m=\u001b[0m\u001b[0;32mFalse\u001b[0m\u001b[0;34m)\u001b[0m\u001b[0;34m\u001b[0m\u001b[0;34m\u001b[0m\u001b[0m\n\u001b[0m\u001b[1;32m  10055\u001b[0m \u001b[0;34m\u001b[0m\u001b[0m\n\u001b[1;32m  10056\u001b[0m         \u001b[0;32mif\u001b[0m \u001b[0mmethod\u001b[0m \u001b[0;34m==\u001b[0m \u001b[0;34m\"pearson\"\u001b[0m\u001b[0;34m:\u001b[0m\u001b[0;34m\u001b[0m\u001b[0;34m\u001b[0m\u001b[0m\n",
            "\u001b[0;32m/usr/local/lib/python3.10/dist-packages/pandas/core/frame.py\u001b[0m in \u001b[0;36mto_numpy\u001b[0;34m(self, dtype, copy, na_value)\u001b[0m\n\u001b[1;32m   1836\u001b[0m         \u001b[0;32mif\u001b[0m \u001b[0mdtype\u001b[0m \u001b[0;32mis\u001b[0m \u001b[0;32mnot\u001b[0m \u001b[0;32mNone\u001b[0m\u001b[0;34m:\u001b[0m\u001b[0;34m\u001b[0m\u001b[0;34m\u001b[0m\u001b[0m\n\u001b[1;32m   1837\u001b[0m             \u001b[0mdtype\u001b[0m \u001b[0;34m=\u001b[0m \u001b[0mnp\u001b[0m\u001b[0;34m.\u001b[0m\u001b[0mdtype\u001b[0m\u001b[0;34m(\u001b[0m\u001b[0mdtype\u001b[0m\u001b[0;34m)\u001b[0m\u001b[0;34m\u001b[0m\u001b[0;34m\u001b[0m\u001b[0m\n\u001b[0;32m-> 1838\u001b[0;31m         \u001b[0mresult\u001b[0m \u001b[0;34m=\u001b[0m \u001b[0mself\u001b[0m\u001b[0;34m.\u001b[0m\u001b[0m_mgr\u001b[0m\u001b[0;34m.\u001b[0m\u001b[0mas_array\u001b[0m\u001b[0;34m(\u001b[0m\u001b[0mdtype\u001b[0m\u001b[0;34m=\u001b[0m\u001b[0mdtype\u001b[0m\u001b[0;34m,\u001b[0m \u001b[0mcopy\u001b[0m\u001b[0;34m=\u001b[0m\u001b[0mcopy\u001b[0m\u001b[0;34m,\u001b[0m \u001b[0mna_value\u001b[0m\u001b[0;34m=\u001b[0m\u001b[0mna_value\u001b[0m\u001b[0;34m)\u001b[0m\u001b[0;34m\u001b[0m\u001b[0;34m\u001b[0m\u001b[0m\n\u001b[0m\u001b[1;32m   1839\u001b[0m         \u001b[0;32mif\u001b[0m \u001b[0mresult\u001b[0m\u001b[0;34m.\u001b[0m\u001b[0mdtype\u001b[0m \u001b[0;32mis\u001b[0m \u001b[0;32mnot\u001b[0m \u001b[0mdtype\u001b[0m\u001b[0;34m:\u001b[0m\u001b[0;34m\u001b[0m\u001b[0;34m\u001b[0m\u001b[0m\n\u001b[1;32m   1840\u001b[0m             \u001b[0mresult\u001b[0m \u001b[0;34m=\u001b[0m \u001b[0mnp\u001b[0m\u001b[0;34m.\u001b[0m\u001b[0marray\u001b[0m\u001b[0;34m(\u001b[0m\u001b[0mresult\u001b[0m\u001b[0;34m,\u001b[0m \u001b[0mdtype\u001b[0m\u001b[0;34m=\u001b[0m\u001b[0mdtype\u001b[0m\u001b[0;34m,\u001b[0m \u001b[0mcopy\u001b[0m\u001b[0;34m=\u001b[0m\u001b[0;32mFalse\u001b[0m\u001b[0;34m)\u001b[0m\u001b[0;34m\u001b[0m\u001b[0;34m\u001b[0m\u001b[0m\n",
            "\u001b[0;32m/usr/local/lib/python3.10/dist-packages/pandas/core/internals/managers.py\u001b[0m in \u001b[0;36mas_array\u001b[0;34m(self, dtype, copy, na_value)\u001b[0m\n\u001b[1;32m   1730\u001b[0m                 \u001b[0marr\u001b[0m\u001b[0;34m.\u001b[0m\u001b[0mflags\u001b[0m\u001b[0;34m.\u001b[0m\u001b[0mwriteable\u001b[0m \u001b[0;34m=\u001b[0m \u001b[0;32mFalse\u001b[0m\u001b[0;34m\u001b[0m\u001b[0;34m\u001b[0m\u001b[0m\n\u001b[1;32m   1731\u001b[0m         \u001b[0;32melse\u001b[0m\u001b[0;34m:\u001b[0m\u001b[0;34m\u001b[0m\u001b[0;34m\u001b[0m\u001b[0m\n\u001b[0;32m-> 1732\u001b[0;31m             \u001b[0marr\u001b[0m \u001b[0;34m=\u001b[0m \u001b[0mself\u001b[0m\u001b[0;34m.\u001b[0m\u001b[0m_interleave\u001b[0m\u001b[0;34m(\u001b[0m\u001b[0mdtype\u001b[0m\u001b[0;34m=\u001b[0m\u001b[0mdtype\u001b[0m\u001b[0;34m,\u001b[0m \u001b[0mna_value\u001b[0m\u001b[0;34m=\u001b[0m\u001b[0mna_value\u001b[0m\u001b[0;34m)\u001b[0m\u001b[0;34m\u001b[0m\u001b[0;34m\u001b[0m\u001b[0m\n\u001b[0m\u001b[1;32m   1733\u001b[0m             \u001b[0;31m# The underlying data was copied within _interleave, so no need\u001b[0m\u001b[0;34m\u001b[0m\u001b[0;34m\u001b[0m\u001b[0m\n\u001b[1;32m   1734\u001b[0m             \u001b[0;31m# to further copy if copy=True or setting na_value\u001b[0m\u001b[0;34m\u001b[0m\u001b[0;34m\u001b[0m\u001b[0m\n",
            "\u001b[0;32m/usr/local/lib/python3.10/dist-packages/pandas/core/internals/managers.py\u001b[0m in \u001b[0;36m_interleave\u001b[0;34m(self, dtype, na_value)\u001b[0m\n\u001b[1;32m   1792\u001b[0m             \u001b[0;32melse\u001b[0m\u001b[0;34m:\u001b[0m\u001b[0;34m\u001b[0m\u001b[0;34m\u001b[0m\u001b[0m\n\u001b[1;32m   1793\u001b[0m                 \u001b[0marr\u001b[0m \u001b[0;34m=\u001b[0m \u001b[0mblk\u001b[0m\u001b[0;34m.\u001b[0m\u001b[0mget_values\u001b[0m\u001b[0;34m(\u001b[0m\u001b[0mdtype\u001b[0m\u001b[0;34m)\u001b[0m\u001b[0;34m\u001b[0m\u001b[0;34m\u001b[0m\u001b[0m\n\u001b[0;32m-> 1794\u001b[0;31m             \u001b[0mresult\u001b[0m\u001b[0;34m[\u001b[0m\u001b[0mrl\u001b[0m\u001b[0;34m.\u001b[0m\u001b[0mindexer\u001b[0m\u001b[0;34m]\u001b[0m \u001b[0;34m=\u001b[0m \u001b[0marr\u001b[0m\u001b[0;34m\u001b[0m\u001b[0;34m\u001b[0m\u001b[0m\n\u001b[0m\u001b[1;32m   1795\u001b[0m             \u001b[0mitemmask\u001b[0m\u001b[0;34m[\u001b[0m\u001b[0mrl\u001b[0m\u001b[0;34m.\u001b[0m\u001b[0mindexer\u001b[0m\u001b[0;34m]\u001b[0m \u001b[0;34m=\u001b[0m \u001b[0;36m1\u001b[0m\u001b[0;34m\u001b[0m\u001b[0;34m\u001b[0m\u001b[0m\n\u001b[1;32m   1796\u001b[0m \u001b[0;34m\u001b[0m\u001b[0m\n",
            "\u001b[0;31mValueError\u001b[0m: could not convert string to float: 'SE'"
          ]
        }
      ]
    },
    {
      "cell_type": "code",
      "source": [
        "corr_matrix = df.corr()\n",
        "sns.heatmap(corr_matrix, annot=True, cmap='coolwarm')\n",
        "plt.title('Correlation Heatmap')\n",
        "plt.show()"
      ],
      "metadata": {
        "colab": {
          "base_uri": "https://localhost:8080/",
          "height": 339
        },
        "id": "jALaSNsULa09",
        "outputId": "e715b842-ec70-45c9-e1b5-15ce286220f7"
      },
      "execution_count": 39,
      "outputs": [
        {
          "output_type": "error",
          "ename": "ValueError",
          "evalue": "could not convert string to float: 'SE'",
          "traceback": [
            "\u001b[0;31m---------------------------------------------------------------------------\u001b[0m",
            "\u001b[0;31mValueError\u001b[0m                                Traceback (most recent call last)",
            "\u001b[0;32m<ipython-input-39-0f52dd28a8b8>\u001b[0m in \u001b[0;36m<cell line: 1>\u001b[0;34m()\u001b[0m\n\u001b[0;32m----> 1\u001b[0;31m \u001b[0mcorr_matrix\u001b[0m \u001b[0;34m=\u001b[0m \u001b[0mdf\u001b[0m\u001b[0;34m.\u001b[0m\u001b[0mcorr\u001b[0m\u001b[0;34m(\u001b[0m\u001b[0;34m)\u001b[0m\u001b[0;34m\u001b[0m\u001b[0;34m\u001b[0m\u001b[0m\n\u001b[0m\u001b[1;32m      2\u001b[0m \u001b[0msns\u001b[0m\u001b[0;34m.\u001b[0m\u001b[0mheatmap\u001b[0m\u001b[0;34m(\u001b[0m\u001b[0mcorr_matrix\u001b[0m\u001b[0;34m,\u001b[0m \u001b[0mannot\u001b[0m\u001b[0;34m=\u001b[0m\u001b[0;32mTrue\u001b[0m\u001b[0;34m,\u001b[0m \u001b[0mcmap\u001b[0m\u001b[0;34m=\u001b[0m\u001b[0;34m'coolwarm'\u001b[0m\u001b[0;34m)\u001b[0m\u001b[0;34m\u001b[0m\u001b[0;34m\u001b[0m\u001b[0m\n\u001b[1;32m      3\u001b[0m \u001b[0mplt\u001b[0m\u001b[0;34m.\u001b[0m\u001b[0mtitle\u001b[0m\u001b[0;34m(\u001b[0m\u001b[0;34m'Correlation Heatmap'\u001b[0m\u001b[0;34m)\u001b[0m\u001b[0;34m\u001b[0m\u001b[0;34m\u001b[0m\u001b[0m\n\u001b[1;32m      4\u001b[0m \u001b[0mplt\u001b[0m\u001b[0;34m.\u001b[0m\u001b[0mshow\u001b[0m\u001b[0;34m(\u001b[0m\u001b[0;34m)\u001b[0m\u001b[0;34m\u001b[0m\u001b[0;34m\u001b[0m\u001b[0m\n",
            "\u001b[0;32m/usr/local/lib/python3.10/dist-packages/pandas/core/frame.py\u001b[0m in \u001b[0;36mcorr\u001b[0;34m(self, method, min_periods, numeric_only)\u001b[0m\n\u001b[1;32m  10052\u001b[0m         \u001b[0mcols\u001b[0m \u001b[0;34m=\u001b[0m \u001b[0mdata\u001b[0m\u001b[0;34m.\u001b[0m\u001b[0mcolumns\u001b[0m\u001b[0;34m\u001b[0m\u001b[0;34m\u001b[0m\u001b[0m\n\u001b[1;32m  10053\u001b[0m         \u001b[0midx\u001b[0m \u001b[0;34m=\u001b[0m \u001b[0mcols\u001b[0m\u001b[0;34m.\u001b[0m\u001b[0mcopy\u001b[0m\u001b[0;34m(\u001b[0m\u001b[0;34m)\u001b[0m\u001b[0;34m\u001b[0m\u001b[0;34m\u001b[0m\u001b[0m\n\u001b[0;32m> 10054\u001b[0;31m         \u001b[0mmat\u001b[0m \u001b[0;34m=\u001b[0m \u001b[0mdata\u001b[0m\u001b[0;34m.\u001b[0m\u001b[0mto_numpy\u001b[0m\u001b[0;34m(\u001b[0m\u001b[0mdtype\u001b[0m\u001b[0;34m=\u001b[0m\u001b[0mfloat\u001b[0m\u001b[0;34m,\u001b[0m \u001b[0mna_value\u001b[0m\u001b[0;34m=\u001b[0m\u001b[0mnp\u001b[0m\u001b[0;34m.\u001b[0m\u001b[0mnan\u001b[0m\u001b[0;34m,\u001b[0m \u001b[0mcopy\u001b[0m\u001b[0;34m=\u001b[0m\u001b[0;32mFalse\u001b[0m\u001b[0;34m)\u001b[0m\u001b[0;34m\u001b[0m\u001b[0;34m\u001b[0m\u001b[0m\n\u001b[0m\u001b[1;32m  10055\u001b[0m \u001b[0;34m\u001b[0m\u001b[0m\n\u001b[1;32m  10056\u001b[0m         \u001b[0;32mif\u001b[0m \u001b[0mmethod\u001b[0m \u001b[0;34m==\u001b[0m \u001b[0;34m\"pearson\"\u001b[0m\u001b[0;34m:\u001b[0m\u001b[0;34m\u001b[0m\u001b[0;34m\u001b[0m\u001b[0m\n",
            "\u001b[0;32m/usr/local/lib/python3.10/dist-packages/pandas/core/frame.py\u001b[0m in \u001b[0;36mto_numpy\u001b[0;34m(self, dtype, copy, na_value)\u001b[0m\n\u001b[1;32m   1836\u001b[0m         \u001b[0;32mif\u001b[0m \u001b[0mdtype\u001b[0m \u001b[0;32mis\u001b[0m \u001b[0;32mnot\u001b[0m \u001b[0;32mNone\u001b[0m\u001b[0;34m:\u001b[0m\u001b[0;34m\u001b[0m\u001b[0;34m\u001b[0m\u001b[0m\n\u001b[1;32m   1837\u001b[0m             \u001b[0mdtype\u001b[0m \u001b[0;34m=\u001b[0m \u001b[0mnp\u001b[0m\u001b[0;34m.\u001b[0m\u001b[0mdtype\u001b[0m\u001b[0;34m(\u001b[0m\u001b[0mdtype\u001b[0m\u001b[0;34m)\u001b[0m\u001b[0;34m\u001b[0m\u001b[0;34m\u001b[0m\u001b[0m\n\u001b[0;32m-> 1838\u001b[0;31m         \u001b[0mresult\u001b[0m \u001b[0;34m=\u001b[0m \u001b[0mself\u001b[0m\u001b[0;34m.\u001b[0m\u001b[0m_mgr\u001b[0m\u001b[0;34m.\u001b[0m\u001b[0mas_array\u001b[0m\u001b[0;34m(\u001b[0m\u001b[0mdtype\u001b[0m\u001b[0;34m=\u001b[0m\u001b[0mdtype\u001b[0m\u001b[0;34m,\u001b[0m \u001b[0mcopy\u001b[0m\u001b[0;34m=\u001b[0m\u001b[0mcopy\u001b[0m\u001b[0;34m,\u001b[0m \u001b[0mna_value\u001b[0m\u001b[0;34m=\u001b[0m\u001b[0mna_value\u001b[0m\u001b[0;34m)\u001b[0m\u001b[0;34m\u001b[0m\u001b[0;34m\u001b[0m\u001b[0m\n\u001b[0m\u001b[1;32m   1839\u001b[0m         \u001b[0;32mif\u001b[0m \u001b[0mresult\u001b[0m\u001b[0;34m.\u001b[0m\u001b[0mdtype\u001b[0m \u001b[0;32mis\u001b[0m \u001b[0;32mnot\u001b[0m \u001b[0mdtype\u001b[0m\u001b[0;34m:\u001b[0m\u001b[0;34m\u001b[0m\u001b[0;34m\u001b[0m\u001b[0m\n\u001b[1;32m   1840\u001b[0m             \u001b[0mresult\u001b[0m \u001b[0;34m=\u001b[0m \u001b[0mnp\u001b[0m\u001b[0;34m.\u001b[0m\u001b[0marray\u001b[0m\u001b[0;34m(\u001b[0m\u001b[0mresult\u001b[0m\u001b[0;34m,\u001b[0m \u001b[0mdtype\u001b[0m\u001b[0;34m=\u001b[0m\u001b[0mdtype\u001b[0m\u001b[0;34m,\u001b[0m \u001b[0mcopy\u001b[0m\u001b[0;34m=\u001b[0m\u001b[0;32mFalse\u001b[0m\u001b[0;34m)\u001b[0m\u001b[0;34m\u001b[0m\u001b[0;34m\u001b[0m\u001b[0m\n",
            "\u001b[0;32m/usr/local/lib/python3.10/dist-packages/pandas/core/internals/managers.py\u001b[0m in \u001b[0;36mas_array\u001b[0;34m(self, dtype, copy, na_value)\u001b[0m\n\u001b[1;32m   1730\u001b[0m                 \u001b[0marr\u001b[0m\u001b[0;34m.\u001b[0m\u001b[0mflags\u001b[0m\u001b[0;34m.\u001b[0m\u001b[0mwriteable\u001b[0m \u001b[0;34m=\u001b[0m \u001b[0;32mFalse\u001b[0m\u001b[0;34m\u001b[0m\u001b[0;34m\u001b[0m\u001b[0m\n\u001b[1;32m   1731\u001b[0m         \u001b[0;32melse\u001b[0m\u001b[0;34m:\u001b[0m\u001b[0;34m\u001b[0m\u001b[0;34m\u001b[0m\u001b[0m\n\u001b[0;32m-> 1732\u001b[0;31m             \u001b[0marr\u001b[0m \u001b[0;34m=\u001b[0m \u001b[0mself\u001b[0m\u001b[0;34m.\u001b[0m\u001b[0m_interleave\u001b[0m\u001b[0;34m(\u001b[0m\u001b[0mdtype\u001b[0m\u001b[0;34m=\u001b[0m\u001b[0mdtype\u001b[0m\u001b[0;34m,\u001b[0m \u001b[0mna_value\u001b[0m\u001b[0;34m=\u001b[0m\u001b[0mna_value\u001b[0m\u001b[0;34m)\u001b[0m\u001b[0;34m\u001b[0m\u001b[0;34m\u001b[0m\u001b[0m\n\u001b[0m\u001b[1;32m   1733\u001b[0m             \u001b[0;31m# The underlying data was copied within _interleave, so no need\u001b[0m\u001b[0;34m\u001b[0m\u001b[0;34m\u001b[0m\u001b[0m\n\u001b[1;32m   1734\u001b[0m             \u001b[0;31m# to further copy if copy=True or setting na_value\u001b[0m\u001b[0;34m\u001b[0m\u001b[0;34m\u001b[0m\u001b[0m\n",
            "\u001b[0;32m/usr/local/lib/python3.10/dist-packages/pandas/core/internals/managers.py\u001b[0m in \u001b[0;36m_interleave\u001b[0;34m(self, dtype, na_value)\u001b[0m\n\u001b[1;32m   1792\u001b[0m             \u001b[0;32melse\u001b[0m\u001b[0;34m:\u001b[0m\u001b[0;34m\u001b[0m\u001b[0;34m\u001b[0m\u001b[0m\n\u001b[1;32m   1793\u001b[0m                 \u001b[0marr\u001b[0m \u001b[0;34m=\u001b[0m \u001b[0mblk\u001b[0m\u001b[0;34m.\u001b[0m\u001b[0mget_values\u001b[0m\u001b[0;34m(\u001b[0m\u001b[0mdtype\u001b[0m\u001b[0;34m)\u001b[0m\u001b[0;34m\u001b[0m\u001b[0;34m\u001b[0m\u001b[0m\n\u001b[0;32m-> 1794\u001b[0;31m             \u001b[0mresult\u001b[0m\u001b[0;34m[\u001b[0m\u001b[0mrl\u001b[0m\u001b[0;34m.\u001b[0m\u001b[0mindexer\u001b[0m\u001b[0;34m]\u001b[0m \u001b[0;34m=\u001b[0m \u001b[0marr\u001b[0m\u001b[0;34m\u001b[0m\u001b[0;34m\u001b[0m\u001b[0m\n\u001b[0m\u001b[1;32m   1795\u001b[0m             \u001b[0mitemmask\u001b[0m\u001b[0;34m[\u001b[0m\u001b[0mrl\u001b[0m\u001b[0;34m.\u001b[0m\u001b[0mindexer\u001b[0m\u001b[0;34m]\u001b[0m \u001b[0;34m=\u001b[0m \u001b[0;36m1\u001b[0m\u001b[0;34m\u001b[0m\u001b[0;34m\u001b[0m\u001b[0m\n\u001b[1;32m   1796\u001b[0m \u001b[0;34m\u001b[0m\u001b[0m\n",
            "\u001b[0;31mValueError\u001b[0m: could not convert string to float: 'SE'"
          ]
        }
      ]
    },
    {
      "cell_type": "code",
      "source": [
        "ContinesColumn_result, comperativeColumn_result = hypothesisTesting(df, continuous_columns , category_columns)"
      ],
      "metadata": {
        "id": "nRkawwUnLm3O"
      },
      "execution_count": 34,
      "outputs": []
    },
    {
      "cell_type": "code",
      "source": [
        "ContinesColumn_result_df = pd.DataFrame(ContinesColumn_result)\n",
        "ContinesColumn_result_df"
      ],
      "metadata": {
        "colab": {
          "base_uri": "https://localhost:8080/",
          "height": 206
        },
        "id": "qma7oxyINR_1",
        "outputId": "134556c2-b175-4739-a380-6a96c63e9e2d"
      },
      "execution_count": 40,
      "outputs": [
        {
          "output_type": "execute_result",
          "data": {
            "text/plain": [
              "                                                            salary  \\\n",
              "Population Mean                                      172900.808704   \n",
              "Sample Means                                  {170969.52176949944}   \n",
              "H0_accepted                                                    710   \n",
              "H0_rejected                                                   1008   \n",
              "Conclusion       H0 is rejected, Ha is accepted, There is a sig...   \n",
              "\n",
              "                                                     salary_in_usd  \n",
              "Population Mean                                      146745.224343  \n",
              "Sample Means                                  {146232.13121362048}  \n",
              "H0_accepted                                                    899  \n",
              "H0_rejected                                                    819  \n",
              "Conclusion       H0 is accepted, Ha is rejected, There is no si...  "
            ],
            "text/html": [
              "\n",
              "  <div id=\"df-cc98751c-4633-4688-bcbb-d3be63ecb3e3\" class=\"colab-df-container\">\n",
              "    <div>\n",
              "<style scoped>\n",
              "    .dataframe tbody tr th:only-of-type {\n",
              "        vertical-align: middle;\n",
              "    }\n",
              "\n",
              "    .dataframe tbody tr th {\n",
              "        vertical-align: top;\n",
              "    }\n",
              "\n",
              "    .dataframe thead th {\n",
              "        text-align: right;\n",
              "    }\n",
              "</style>\n",
              "<table border=\"1\" class=\"dataframe\">\n",
              "  <thead>\n",
              "    <tr style=\"text-align: right;\">\n",
              "      <th></th>\n",
              "      <th>salary</th>\n",
              "      <th>salary_in_usd</th>\n",
              "    </tr>\n",
              "  </thead>\n",
              "  <tbody>\n",
              "    <tr>\n",
              "      <th>Population Mean</th>\n",
              "      <td>172900.808704</td>\n",
              "      <td>146745.224343</td>\n",
              "    </tr>\n",
              "    <tr>\n",
              "      <th>Sample Means</th>\n",
              "      <td>{170969.52176949944}</td>\n",
              "      <td>{146232.13121362048}</td>\n",
              "    </tr>\n",
              "    <tr>\n",
              "      <th>H0_accepted</th>\n",
              "      <td>710</td>\n",
              "      <td>899</td>\n",
              "    </tr>\n",
              "    <tr>\n",
              "      <th>H0_rejected</th>\n",
              "      <td>1008</td>\n",
              "      <td>819</td>\n",
              "    </tr>\n",
              "    <tr>\n",
              "      <th>Conclusion</th>\n",
              "      <td>H0 is rejected, Ha is accepted, There is a sig...</td>\n",
              "      <td>H0 is accepted, Ha is rejected, There is no si...</td>\n",
              "    </tr>\n",
              "  </tbody>\n",
              "</table>\n",
              "</div>\n",
              "    <div class=\"colab-df-buttons\">\n",
              "\n",
              "  <div class=\"colab-df-container\">\n",
              "    <button class=\"colab-df-convert\" onclick=\"convertToInteractive('df-cc98751c-4633-4688-bcbb-d3be63ecb3e3')\"\n",
              "            title=\"Convert this dataframe to an interactive table.\"\n",
              "            style=\"display:none;\">\n",
              "\n",
              "  <svg xmlns=\"http://www.w3.org/2000/svg\" height=\"24px\" viewBox=\"0 -960 960 960\">\n",
              "    <path d=\"M120-120v-720h720v720H120Zm60-500h600v-160H180v160Zm220 220h160v-160H400v160Zm0 220h160v-160H400v160ZM180-400h160v-160H180v160Zm440 0h160v-160H620v160ZM180-180h160v-160H180v160Zm440 0h160v-160H620v160Z\"/>\n",
              "  </svg>\n",
              "    </button>\n",
              "\n",
              "  <style>\n",
              "    .colab-df-container {\n",
              "      display:flex;\n",
              "      gap: 12px;\n",
              "    }\n",
              "\n",
              "    .colab-df-convert {\n",
              "      background-color: #E8F0FE;\n",
              "      border: none;\n",
              "      border-radius: 50%;\n",
              "      cursor: pointer;\n",
              "      display: none;\n",
              "      fill: #1967D2;\n",
              "      height: 32px;\n",
              "      padding: 0 0 0 0;\n",
              "      width: 32px;\n",
              "    }\n",
              "\n",
              "    .colab-df-convert:hover {\n",
              "      background-color: #E2EBFA;\n",
              "      box-shadow: 0px 1px 2px rgba(60, 64, 67, 0.3), 0px 1px 3px 1px rgba(60, 64, 67, 0.15);\n",
              "      fill: #174EA6;\n",
              "    }\n",
              "\n",
              "    .colab-df-buttons div {\n",
              "      margin-bottom: 4px;\n",
              "    }\n",
              "\n",
              "    [theme=dark] .colab-df-convert {\n",
              "      background-color: #3B4455;\n",
              "      fill: #D2E3FC;\n",
              "    }\n",
              "\n",
              "    [theme=dark] .colab-df-convert:hover {\n",
              "      background-color: #434B5C;\n",
              "      box-shadow: 0px 1px 3px 1px rgba(0, 0, 0, 0.15);\n",
              "      filter: drop-shadow(0px 1px 2px rgba(0, 0, 0, 0.3));\n",
              "      fill: #FFFFFF;\n",
              "    }\n",
              "  </style>\n",
              "\n",
              "    <script>\n",
              "      const buttonEl =\n",
              "        document.querySelector('#df-cc98751c-4633-4688-bcbb-d3be63ecb3e3 button.colab-df-convert');\n",
              "      buttonEl.style.display =\n",
              "        google.colab.kernel.accessAllowed ? 'block' : 'none';\n",
              "\n",
              "      async function convertToInteractive(key) {\n",
              "        const element = document.querySelector('#df-cc98751c-4633-4688-bcbb-d3be63ecb3e3');\n",
              "        const dataTable =\n",
              "          await google.colab.kernel.invokeFunction('convertToInteractive',\n",
              "                                                    [key], {});\n",
              "        if (!dataTable) return;\n",
              "\n",
              "        const docLinkHtml = 'Like what you see? Visit the ' +\n",
              "          '<a target=\"_blank\" href=https://colab.research.google.com/notebooks/data_table.ipynb>data table notebook</a>'\n",
              "          + ' to learn more about interactive tables.';\n",
              "        element.innerHTML = '';\n",
              "        dataTable['output_type'] = 'display_data';\n",
              "        await google.colab.output.renderOutput(dataTable, element);\n",
              "        const docLink = document.createElement('div');\n",
              "        docLink.innerHTML = docLinkHtml;\n",
              "        element.appendChild(docLink);\n",
              "      }\n",
              "    </script>\n",
              "  </div>\n",
              "\n",
              "\n",
              "<div id=\"df-4a60fcdf-eef6-43ae-ab9f-3fdb62529f91\">\n",
              "  <button class=\"colab-df-quickchart\" onclick=\"quickchart('df-4a60fcdf-eef6-43ae-ab9f-3fdb62529f91')\"\n",
              "            title=\"Suggest charts\"\n",
              "            style=\"display:none;\">\n",
              "\n",
              "<svg xmlns=\"http://www.w3.org/2000/svg\" height=\"24px\"viewBox=\"0 0 24 24\"\n",
              "     width=\"24px\">\n",
              "    <g>\n",
              "        <path d=\"M19 3H5c-1.1 0-2 .9-2 2v14c0 1.1.9 2 2 2h14c1.1 0 2-.9 2-2V5c0-1.1-.9-2-2-2zM9 17H7v-7h2v7zm4 0h-2V7h2v10zm4 0h-2v-4h2v4z\"/>\n",
              "    </g>\n",
              "</svg>\n",
              "  </button>\n",
              "\n",
              "<style>\n",
              "  .colab-df-quickchart {\n",
              "      --bg-color: #E8F0FE;\n",
              "      --fill-color: #1967D2;\n",
              "      --hover-bg-color: #E2EBFA;\n",
              "      --hover-fill-color: #174EA6;\n",
              "      --disabled-fill-color: #AAA;\n",
              "      --disabled-bg-color: #DDD;\n",
              "  }\n",
              "\n",
              "  [theme=dark] .colab-df-quickchart {\n",
              "      --bg-color: #3B4455;\n",
              "      --fill-color: #D2E3FC;\n",
              "      --hover-bg-color: #434B5C;\n",
              "      --hover-fill-color: #FFFFFF;\n",
              "      --disabled-bg-color: #3B4455;\n",
              "      --disabled-fill-color: #666;\n",
              "  }\n",
              "\n",
              "  .colab-df-quickchart {\n",
              "    background-color: var(--bg-color);\n",
              "    border: none;\n",
              "    border-radius: 50%;\n",
              "    cursor: pointer;\n",
              "    display: none;\n",
              "    fill: var(--fill-color);\n",
              "    height: 32px;\n",
              "    padding: 0;\n",
              "    width: 32px;\n",
              "  }\n",
              "\n",
              "  .colab-df-quickchart:hover {\n",
              "    background-color: var(--hover-bg-color);\n",
              "    box-shadow: 0 1px 2px rgba(60, 64, 67, 0.3), 0 1px 3px 1px rgba(60, 64, 67, 0.15);\n",
              "    fill: var(--button-hover-fill-color);\n",
              "  }\n",
              "\n",
              "  .colab-df-quickchart-complete:disabled,\n",
              "  .colab-df-quickchart-complete:disabled:hover {\n",
              "    background-color: var(--disabled-bg-color);\n",
              "    fill: var(--disabled-fill-color);\n",
              "    box-shadow: none;\n",
              "  }\n",
              "\n",
              "  .colab-df-spinner {\n",
              "    border: 2px solid var(--fill-color);\n",
              "    border-color: transparent;\n",
              "    border-bottom-color: var(--fill-color);\n",
              "    animation:\n",
              "      spin 1s steps(1) infinite;\n",
              "  }\n",
              "\n",
              "  @keyframes spin {\n",
              "    0% {\n",
              "      border-color: transparent;\n",
              "      border-bottom-color: var(--fill-color);\n",
              "      border-left-color: var(--fill-color);\n",
              "    }\n",
              "    20% {\n",
              "      border-color: transparent;\n",
              "      border-left-color: var(--fill-color);\n",
              "      border-top-color: var(--fill-color);\n",
              "    }\n",
              "    30% {\n",
              "      border-color: transparent;\n",
              "      border-left-color: var(--fill-color);\n",
              "      border-top-color: var(--fill-color);\n",
              "      border-right-color: var(--fill-color);\n",
              "    }\n",
              "    40% {\n",
              "      border-color: transparent;\n",
              "      border-right-color: var(--fill-color);\n",
              "      border-top-color: var(--fill-color);\n",
              "    }\n",
              "    60% {\n",
              "      border-color: transparent;\n",
              "      border-right-color: var(--fill-color);\n",
              "    }\n",
              "    80% {\n",
              "      border-color: transparent;\n",
              "      border-right-color: var(--fill-color);\n",
              "      border-bottom-color: var(--fill-color);\n",
              "    }\n",
              "    90% {\n",
              "      border-color: transparent;\n",
              "      border-bottom-color: var(--fill-color);\n",
              "    }\n",
              "  }\n",
              "</style>\n",
              "\n",
              "  <script>\n",
              "    async function quickchart(key) {\n",
              "      const quickchartButtonEl =\n",
              "        document.querySelector('#' + key + ' button');\n",
              "      quickchartButtonEl.disabled = true;  // To prevent multiple clicks.\n",
              "      quickchartButtonEl.classList.add('colab-df-spinner');\n",
              "      try {\n",
              "        const charts = await google.colab.kernel.invokeFunction(\n",
              "            'suggestCharts', [key], {});\n",
              "      } catch (error) {\n",
              "        console.error('Error during call to suggestCharts:', error);\n",
              "      }\n",
              "      quickchartButtonEl.classList.remove('colab-df-spinner');\n",
              "      quickchartButtonEl.classList.add('colab-df-quickchart-complete');\n",
              "    }\n",
              "    (() => {\n",
              "      let quickchartButtonEl =\n",
              "        document.querySelector('#df-4a60fcdf-eef6-43ae-ab9f-3fdb62529f91 button');\n",
              "      quickchartButtonEl.style.display =\n",
              "        google.colab.kernel.accessAllowed ? 'block' : 'none';\n",
              "    })();\n",
              "  </script>\n",
              "</div>\n",
              "\n",
              "  <div id=\"id_53563144-a360-4305-80ee-1b530aec5856\">\n",
              "    <style>\n",
              "      .colab-df-generate {\n",
              "        background-color: #E8F0FE;\n",
              "        border: none;\n",
              "        border-radius: 50%;\n",
              "        cursor: pointer;\n",
              "        display: none;\n",
              "        fill: #1967D2;\n",
              "        height: 32px;\n",
              "        padding: 0 0 0 0;\n",
              "        width: 32px;\n",
              "      }\n",
              "\n",
              "      .colab-df-generate:hover {\n",
              "        background-color: #E2EBFA;\n",
              "        box-shadow: 0px 1px 2px rgba(60, 64, 67, 0.3), 0px 1px 3px 1px rgba(60, 64, 67, 0.15);\n",
              "        fill: #174EA6;\n",
              "      }\n",
              "\n",
              "      [theme=dark] .colab-df-generate {\n",
              "        background-color: #3B4455;\n",
              "        fill: #D2E3FC;\n",
              "      }\n",
              "\n",
              "      [theme=dark] .colab-df-generate:hover {\n",
              "        background-color: #434B5C;\n",
              "        box-shadow: 0px 1px 3px 1px rgba(0, 0, 0, 0.15);\n",
              "        filter: drop-shadow(0px 1px 2px rgba(0, 0, 0, 0.3));\n",
              "        fill: #FFFFFF;\n",
              "      }\n",
              "    </style>\n",
              "    <button class=\"colab-df-generate\" onclick=\"generateWithVariable('ContinesColumn_result_df')\"\n",
              "            title=\"Generate code using this dataframe.\"\n",
              "            style=\"display:none;\">\n",
              "\n",
              "  <svg xmlns=\"http://www.w3.org/2000/svg\" height=\"24px\"viewBox=\"0 0 24 24\"\n",
              "       width=\"24px\">\n",
              "    <path d=\"M7,19H8.4L18.45,9,17,7.55,7,17.6ZM5,21V16.75L18.45,3.32a2,2,0,0,1,2.83,0l1.4,1.43a1.91,1.91,0,0,1,.58,1.4,1.91,1.91,0,0,1-.58,1.4L9.25,21ZM18.45,9,17,7.55Zm-12,3A5.31,5.31,0,0,0,4.9,8.1,5.31,5.31,0,0,0,1,6.5,5.31,5.31,0,0,0,4.9,4.9,5.31,5.31,0,0,0,6.5,1,5.31,5.31,0,0,0,8.1,4.9,5.31,5.31,0,0,0,12,6.5,5.46,5.46,0,0,0,6.5,12Z\"/>\n",
              "  </svg>\n",
              "    </button>\n",
              "    <script>\n",
              "      (() => {\n",
              "      const buttonEl =\n",
              "        document.querySelector('#id_53563144-a360-4305-80ee-1b530aec5856 button.colab-df-generate');\n",
              "      buttonEl.style.display =\n",
              "        google.colab.kernel.accessAllowed ? 'block' : 'none';\n",
              "\n",
              "      buttonEl.onclick = () => {\n",
              "        google.colab.notebook.generateWithVariable('ContinesColumn_result_df');\n",
              "      }\n",
              "      })();\n",
              "    </script>\n",
              "  </div>\n",
              "\n",
              "    </div>\n",
              "  </div>\n"
            ],
            "application/vnd.google.colaboratory.intrinsic+json": {
              "type": "dataframe",
              "variable_name": "ContinesColumn_result_df",
              "summary": "{\n  \"name\": \"ContinesColumn_result_df\",\n  \"rows\": 5,\n  \"fields\": [\n    {\n      \"column\": \"salary\",\n      \"properties\": {\n        \"dtype\": \"object\",\n        \"semantic_type\": \"\",\n        \"description\": \"\"\n      }\n    },\n    {\n      \"column\": \"salary_in_usd\",\n      \"properties\": {\n        \"dtype\": \"object\",\n        \"semantic_type\": \"\",\n        \"description\": \"\"\n      }\n    }\n  ]\n}"
            }
          },
          "metadata": {},
          "execution_count": 40
        }
      ]
    },
    {
      "cell_type": "code",
      "source": [
        "comperativeColumn_result"
      ],
      "metadata": {
        "colab": {
          "base_uri": "https://localhost:8080/",
          "height": 605
        },
        "id": "2bBreZq_NWm1",
        "outputId": "d7c4fd1a-b023-4bee-9b15-d437e99d713d"
      },
      "execution_count": 41,
      "outputs": [
        {
          "output_type": "execute_result",
          "data": {
            "text/plain": [
              "                                   work_year          experience_level  \\\n",
              "work_year                                NaN   There is a relationship   \n",
              "experience_level     There is a relationship                       NaN   \n",
              "employment_type      There is a relationship   There is a relationship   \n",
              "job_title            There is a relationship   There is a relationship   \n",
              "salary              There is no relationship   There is a relationship   \n",
              "salary_currency      There is a relationship   There is a relationship   \n",
              "salary_in_usd       There is no relationship  There is no relationship   \n",
              "employee_residence   There is a relationship   There is a relationship   \n",
              "remote_ratio         There is a relationship   There is a relationship   \n",
              "company_location     There is a relationship   There is a relationship   \n",
              "company_size         There is a relationship   There is a relationship   \n",
              "\n",
              "                             employment_type                 job_title  \\\n",
              "work_year            There is a relationship   There is a relationship   \n",
              "experience_level     There is a relationship   There is a relationship   \n",
              "employment_type                          NaN   There is a relationship   \n",
              "job_title            There is a relationship                       NaN   \n",
              "salary               There is a relationship  There is no relationship   \n",
              "salary_currency      There is a relationship   There is a relationship   \n",
              "salary_in_usd       There is no relationship  There is no relationship   \n",
              "employee_residence   There is a relationship   There is a relationship   \n",
              "remote_ratio         There is a relationship   There is a relationship   \n",
              "company_location     There is a relationship   There is a relationship   \n",
              "company_size         There is a relationship   There is a relationship   \n",
              "\n",
              "                                      salary           salary_currency  \\\n",
              "work_year           There is no relationship   There is a relationship   \n",
              "experience_level     There is a relationship   There is a relationship   \n",
              "employment_type      There is a relationship   There is a relationship   \n",
              "job_title           There is no relationship   There is a relationship   \n",
              "salary              There is no relationship  There is no relationship   \n",
              "salary_currency     There is no relationship                       NaN   \n",
              "salary_in_usd       There is no relationship  There is no relationship   \n",
              "employee_residence  There is no relationship   There is a relationship   \n",
              "remote_ratio        There is no relationship   There is a relationship   \n",
              "company_location    There is no relationship   There is a relationship   \n",
              "company_size        There is no relationship   There is a relationship   \n",
              "\n",
              "                               salary_in_usd        employee_residence  \\\n",
              "work_year           There is no relationship   There is a relationship   \n",
              "experience_level    There is no relationship   There is a relationship   \n",
              "employment_type     There is no relationship   There is a relationship   \n",
              "job_title           There is no relationship   There is a relationship   \n",
              "salary              There is no relationship  There is no relationship   \n",
              "salary_currency     There is no relationship   There is a relationship   \n",
              "salary_in_usd        There is a relationship  There is no relationship   \n",
              "employee_residence  There is no relationship                       NaN   \n",
              "remote_ratio        There is no relationship   There is a relationship   \n",
              "company_location    There is no relationship   There is a relationship   \n",
              "company_size        There is no relationship   There is a relationship   \n",
              "\n",
              "                                remote_ratio          company_location  \\\n",
              "work_year            There is a relationship   There is a relationship   \n",
              "experience_level     There is a relationship   There is a relationship   \n",
              "employment_type      There is a relationship   There is a relationship   \n",
              "job_title            There is a relationship   There is a relationship   \n",
              "salary              There is no relationship  There is no relationship   \n",
              "salary_currency      There is a relationship   There is a relationship   \n",
              "salary_in_usd       There is no relationship  There is no relationship   \n",
              "employee_residence   There is a relationship   There is a relationship   \n",
              "remote_ratio                             NaN   There is a relationship   \n",
              "company_location     There is a relationship                       NaN   \n",
              "company_size         There is a relationship   There is a relationship   \n",
              "\n",
              "                                company_size  \n",
              "work_year            There is a relationship  \n",
              "experience_level     There is a relationship  \n",
              "employment_type      There is a relationship  \n",
              "job_title            There is a relationship  \n",
              "salary              There is no relationship  \n",
              "salary_currency      There is a relationship  \n",
              "salary_in_usd       There is no relationship  \n",
              "employee_residence   There is a relationship  \n",
              "remote_ratio         There is a relationship  \n",
              "company_location     There is a relationship  \n",
              "company_size                             NaN  "
            ],
            "text/html": [
              "\n",
              "  <div id=\"df-ebae727b-a28a-4b63-a089-3a0567f33188\" class=\"colab-df-container\">\n",
              "    <div>\n",
              "<style scoped>\n",
              "    .dataframe tbody tr th:only-of-type {\n",
              "        vertical-align: middle;\n",
              "    }\n",
              "\n",
              "    .dataframe tbody tr th {\n",
              "        vertical-align: top;\n",
              "    }\n",
              "\n",
              "    .dataframe thead th {\n",
              "        text-align: right;\n",
              "    }\n",
              "</style>\n",
              "<table border=\"1\" class=\"dataframe\">\n",
              "  <thead>\n",
              "    <tr style=\"text-align: right;\">\n",
              "      <th></th>\n",
              "      <th>work_year</th>\n",
              "      <th>experience_level</th>\n",
              "      <th>employment_type</th>\n",
              "      <th>job_title</th>\n",
              "      <th>salary</th>\n",
              "      <th>salary_currency</th>\n",
              "      <th>salary_in_usd</th>\n",
              "      <th>employee_residence</th>\n",
              "      <th>remote_ratio</th>\n",
              "      <th>company_location</th>\n",
              "      <th>company_size</th>\n",
              "    </tr>\n",
              "  </thead>\n",
              "  <tbody>\n",
              "    <tr>\n",
              "      <th>work_year</th>\n",
              "      <td>NaN</td>\n",
              "      <td>There is a relationship</td>\n",
              "      <td>There is a relationship</td>\n",
              "      <td>There is a relationship</td>\n",
              "      <td>There is no relationship</td>\n",
              "      <td>There is a relationship</td>\n",
              "      <td>There is no relationship</td>\n",
              "      <td>There is a relationship</td>\n",
              "      <td>There is a relationship</td>\n",
              "      <td>There is a relationship</td>\n",
              "      <td>There is a relationship</td>\n",
              "    </tr>\n",
              "    <tr>\n",
              "      <th>experience_level</th>\n",
              "      <td>There is a relationship</td>\n",
              "      <td>NaN</td>\n",
              "      <td>There is a relationship</td>\n",
              "      <td>There is a relationship</td>\n",
              "      <td>There is a relationship</td>\n",
              "      <td>There is a relationship</td>\n",
              "      <td>There is no relationship</td>\n",
              "      <td>There is a relationship</td>\n",
              "      <td>There is a relationship</td>\n",
              "      <td>There is a relationship</td>\n",
              "      <td>There is a relationship</td>\n",
              "    </tr>\n",
              "    <tr>\n",
              "      <th>employment_type</th>\n",
              "      <td>There is a relationship</td>\n",
              "      <td>There is a relationship</td>\n",
              "      <td>NaN</td>\n",
              "      <td>There is a relationship</td>\n",
              "      <td>There is a relationship</td>\n",
              "      <td>There is a relationship</td>\n",
              "      <td>There is no relationship</td>\n",
              "      <td>There is a relationship</td>\n",
              "      <td>There is a relationship</td>\n",
              "      <td>There is a relationship</td>\n",
              "      <td>There is a relationship</td>\n",
              "    </tr>\n",
              "    <tr>\n",
              "      <th>job_title</th>\n",
              "      <td>There is a relationship</td>\n",
              "      <td>There is a relationship</td>\n",
              "      <td>There is a relationship</td>\n",
              "      <td>NaN</td>\n",
              "      <td>There is no relationship</td>\n",
              "      <td>There is a relationship</td>\n",
              "      <td>There is no relationship</td>\n",
              "      <td>There is a relationship</td>\n",
              "      <td>There is a relationship</td>\n",
              "      <td>There is a relationship</td>\n",
              "      <td>There is a relationship</td>\n",
              "    </tr>\n",
              "    <tr>\n",
              "      <th>salary</th>\n",
              "      <td>There is no relationship</td>\n",
              "      <td>There is a relationship</td>\n",
              "      <td>There is a relationship</td>\n",
              "      <td>There is no relationship</td>\n",
              "      <td>There is no relationship</td>\n",
              "      <td>There is no relationship</td>\n",
              "      <td>There is no relationship</td>\n",
              "      <td>There is no relationship</td>\n",
              "      <td>There is no relationship</td>\n",
              "      <td>There is no relationship</td>\n",
              "      <td>There is no relationship</td>\n",
              "    </tr>\n",
              "    <tr>\n",
              "      <th>salary_currency</th>\n",
              "      <td>There is a relationship</td>\n",
              "      <td>There is a relationship</td>\n",
              "      <td>There is a relationship</td>\n",
              "      <td>There is a relationship</td>\n",
              "      <td>There is no relationship</td>\n",
              "      <td>NaN</td>\n",
              "      <td>There is no relationship</td>\n",
              "      <td>There is a relationship</td>\n",
              "      <td>There is a relationship</td>\n",
              "      <td>There is a relationship</td>\n",
              "      <td>There is a relationship</td>\n",
              "    </tr>\n",
              "    <tr>\n",
              "      <th>salary_in_usd</th>\n",
              "      <td>There is no relationship</td>\n",
              "      <td>There is no relationship</td>\n",
              "      <td>There is no relationship</td>\n",
              "      <td>There is no relationship</td>\n",
              "      <td>There is no relationship</td>\n",
              "      <td>There is no relationship</td>\n",
              "      <td>There is a relationship</td>\n",
              "      <td>There is no relationship</td>\n",
              "      <td>There is no relationship</td>\n",
              "      <td>There is no relationship</td>\n",
              "      <td>There is no relationship</td>\n",
              "    </tr>\n",
              "    <tr>\n",
              "      <th>employee_residence</th>\n",
              "      <td>There is a relationship</td>\n",
              "      <td>There is a relationship</td>\n",
              "      <td>There is a relationship</td>\n",
              "      <td>There is a relationship</td>\n",
              "      <td>There is no relationship</td>\n",
              "      <td>There is a relationship</td>\n",
              "      <td>There is no relationship</td>\n",
              "      <td>NaN</td>\n",
              "      <td>There is a relationship</td>\n",
              "      <td>There is a relationship</td>\n",
              "      <td>There is a relationship</td>\n",
              "    </tr>\n",
              "    <tr>\n",
              "      <th>remote_ratio</th>\n",
              "      <td>There is a relationship</td>\n",
              "      <td>There is a relationship</td>\n",
              "      <td>There is a relationship</td>\n",
              "      <td>There is a relationship</td>\n",
              "      <td>There is no relationship</td>\n",
              "      <td>There is a relationship</td>\n",
              "      <td>There is no relationship</td>\n",
              "      <td>There is a relationship</td>\n",
              "      <td>NaN</td>\n",
              "      <td>There is a relationship</td>\n",
              "      <td>There is a relationship</td>\n",
              "    </tr>\n",
              "    <tr>\n",
              "      <th>company_location</th>\n",
              "      <td>There is a relationship</td>\n",
              "      <td>There is a relationship</td>\n",
              "      <td>There is a relationship</td>\n",
              "      <td>There is a relationship</td>\n",
              "      <td>There is no relationship</td>\n",
              "      <td>There is a relationship</td>\n",
              "      <td>There is no relationship</td>\n",
              "      <td>There is a relationship</td>\n",
              "      <td>There is a relationship</td>\n",
              "      <td>NaN</td>\n",
              "      <td>There is a relationship</td>\n",
              "    </tr>\n",
              "    <tr>\n",
              "      <th>company_size</th>\n",
              "      <td>There is a relationship</td>\n",
              "      <td>There is a relationship</td>\n",
              "      <td>There is a relationship</td>\n",
              "      <td>There is a relationship</td>\n",
              "      <td>There is no relationship</td>\n",
              "      <td>There is a relationship</td>\n",
              "      <td>There is no relationship</td>\n",
              "      <td>There is a relationship</td>\n",
              "      <td>There is a relationship</td>\n",
              "      <td>There is a relationship</td>\n",
              "      <td>NaN</td>\n",
              "    </tr>\n",
              "  </tbody>\n",
              "</table>\n",
              "</div>\n",
              "    <div class=\"colab-df-buttons\">\n",
              "\n",
              "  <div class=\"colab-df-container\">\n",
              "    <button class=\"colab-df-convert\" onclick=\"convertToInteractive('df-ebae727b-a28a-4b63-a089-3a0567f33188')\"\n",
              "            title=\"Convert this dataframe to an interactive table.\"\n",
              "            style=\"display:none;\">\n",
              "\n",
              "  <svg xmlns=\"http://www.w3.org/2000/svg\" height=\"24px\" viewBox=\"0 -960 960 960\">\n",
              "    <path d=\"M120-120v-720h720v720H120Zm60-500h600v-160H180v160Zm220 220h160v-160H400v160Zm0 220h160v-160H400v160ZM180-400h160v-160H180v160Zm440 0h160v-160H620v160ZM180-180h160v-160H180v160Zm440 0h160v-160H620v160Z\"/>\n",
              "  </svg>\n",
              "    </button>\n",
              "\n",
              "  <style>\n",
              "    .colab-df-container {\n",
              "      display:flex;\n",
              "      gap: 12px;\n",
              "    }\n",
              "\n",
              "    .colab-df-convert {\n",
              "      background-color: #E8F0FE;\n",
              "      border: none;\n",
              "      border-radius: 50%;\n",
              "      cursor: pointer;\n",
              "      display: none;\n",
              "      fill: #1967D2;\n",
              "      height: 32px;\n",
              "      padding: 0 0 0 0;\n",
              "      width: 32px;\n",
              "    }\n",
              "\n",
              "    .colab-df-convert:hover {\n",
              "      background-color: #E2EBFA;\n",
              "      box-shadow: 0px 1px 2px rgba(60, 64, 67, 0.3), 0px 1px 3px 1px rgba(60, 64, 67, 0.15);\n",
              "      fill: #174EA6;\n",
              "    }\n",
              "\n",
              "    .colab-df-buttons div {\n",
              "      margin-bottom: 4px;\n",
              "    }\n",
              "\n",
              "    [theme=dark] .colab-df-convert {\n",
              "      background-color: #3B4455;\n",
              "      fill: #D2E3FC;\n",
              "    }\n",
              "\n",
              "    [theme=dark] .colab-df-convert:hover {\n",
              "      background-color: #434B5C;\n",
              "      box-shadow: 0px 1px 3px 1px rgba(0, 0, 0, 0.15);\n",
              "      filter: drop-shadow(0px 1px 2px rgba(0, 0, 0, 0.3));\n",
              "      fill: #FFFFFF;\n",
              "    }\n",
              "  </style>\n",
              "\n",
              "    <script>\n",
              "      const buttonEl =\n",
              "        document.querySelector('#df-ebae727b-a28a-4b63-a089-3a0567f33188 button.colab-df-convert');\n",
              "      buttonEl.style.display =\n",
              "        google.colab.kernel.accessAllowed ? 'block' : 'none';\n",
              "\n",
              "      async function convertToInteractive(key) {\n",
              "        const element = document.querySelector('#df-ebae727b-a28a-4b63-a089-3a0567f33188');\n",
              "        const dataTable =\n",
              "          await google.colab.kernel.invokeFunction('convertToInteractive',\n",
              "                                                    [key], {});\n",
              "        if (!dataTable) return;\n",
              "\n",
              "        const docLinkHtml = 'Like what you see? Visit the ' +\n",
              "          '<a target=\"_blank\" href=https://colab.research.google.com/notebooks/data_table.ipynb>data table notebook</a>'\n",
              "          + ' to learn more about interactive tables.';\n",
              "        element.innerHTML = '';\n",
              "        dataTable['output_type'] = 'display_data';\n",
              "        await google.colab.output.renderOutput(dataTable, element);\n",
              "        const docLink = document.createElement('div');\n",
              "        docLink.innerHTML = docLinkHtml;\n",
              "        element.appendChild(docLink);\n",
              "      }\n",
              "    </script>\n",
              "  </div>\n",
              "\n",
              "\n",
              "<div id=\"df-0307698d-fd04-4391-b450-1ddadd64c228\">\n",
              "  <button class=\"colab-df-quickchart\" onclick=\"quickchart('df-0307698d-fd04-4391-b450-1ddadd64c228')\"\n",
              "            title=\"Suggest charts\"\n",
              "            style=\"display:none;\">\n",
              "\n",
              "<svg xmlns=\"http://www.w3.org/2000/svg\" height=\"24px\"viewBox=\"0 0 24 24\"\n",
              "     width=\"24px\">\n",
              "    <g>\n",
              "        <path d=\"M19 3H5c-1.1 0-2 .9-2 2v14c0 1.1.9 2 2 2h14c1.1 0 2-.9 2-2V5c0-1.1-.9-2-2-2zM9 17H7v-7h2v7zm4 0h-2V7h2v10zm4 0h-2v-4h2v4z\"/>\n",
              "    </g>\n",
              "</svg>\n",
              "  </button>\n",
              "\n",
              "<style>\n",
              "  .colab-df-quickchart {\n",
              "      --bg-color: #E8F0FE;\n",
              "      --fill-color: #1967D2;\n",
              "      --hover-bg-color: #E2EBFA;\n",
              "      --hover-fill-color: #174EA6;\n",
              "      --disabled-fill-color: #AAA;\n",
              "      --disabled-bg-color: #DDD;\n",
              "  }\n",
              "\n",
              "  [theme=dark] .colab-df-quickchart {\n",
              "      --bg-color: #3B4455;\n",
              "      --fill-color: #D2E3FC;\n",
              "      --hover-bg-color: #434B5C;\n",
              "      --hover-fill-color: #FFFFFF;\n",
              "      --disabled-bg-color: #3B4455;\n",
              "      --disabled-fill-color: #666;\n",
              "  }\n",
              "\n",
              "  .colab-df-quickchart {\n",
              "    background-color: var(--bg-color);\n",
              "    border: none;\n",
              "    border-radius: 50%;\n",
              "    cursor: pointer;\n",
              "    display: none;\n",
              "    fill: var(--fill-color);\n",
              "    height: 32px;\n",
              "    padding: 0;\n",
              "    width: 32px;\n",
              "  }\n",
              "\n",
              "  .colab-df-quickchart:hover {\n",
              "    background-color: var(--hover-bg-color);\n",
              "    box-shadow: 0 1px 2px rgba(60, 64, 67, 0.3), 0 1px 3px 1px rgba(60, 64, 67, 0.15);\n",
              "    fill: var(--button-hover-fill-color);\n",
              "  }\n",
              "\n",
              "  .colab-df-quickchart-complete:disabled,\n",
              "  .colab-df-quickchart-complete:disabled:hover {\n",
              "    background-color: var(--disabled-bg-color);\n",
              "    fill: var(--disabled-fill-color);\n",
              "    box-shadow: none;\n",
              "  }\n",
              "\n",
              "  .colab-df-spinner {\n",
              "    border: 2px solid var(--fill-color);\n",
              "    border-color: transparent;\n",
              "    border-bottom-color: var(--fill-color);\n",
              "    animation:\n",
              "      spin 1s steps(1) infinite;\n",
              "  }\n",
              "\n",
              "  @keyframes spin {\n",
              "    0% {\n",
              "      border-color: transparent;\n",
              "      border-bottom-color: var(--fill-color);\n",
              "      border-left-color: var(--fill-color);\n",
              "    }\n",
              "    20% {\n",
              "      border-color: transparent;\n",
              "      border-left-color: var(--fill-color);\n",
              "      border-top-color: var(--fill-color);\n",
              "    }\n",
              "    30% {\n",
              "      border-color: transparent;\n",
              "      border-left-color: var(--fill-color);\n",
              "      border-top-color: var(--fill-color);\n",
              "      border-right-color: var(--fill-color);\n",
              "    }\n",
              "    40% {\n",
              "      border-color: transparent;\n",
              "      border-right-color: var(--fill-color);\n",
              "      border-top-color: var(--fill-color);\n",
              "    }\n",
              "    60% {\n",
              "      border-color: transparent;\n",
              "      border-right-color: var(--fill-color);\n",
              "    }\n",
              "    80% {\n",
              "      border-color: transparent;\n",
              "      border-right-color: var(--fill-color);\n",
              "      border-bottom-color: var(--fill-color);\n",
              "    }\n",
              "    90% {\n",
              "      border-color: transparent;\n",
              "      border-bottom-color: var(--fill-color);\n",
              "    }\n",
              "  }\n",
              "</style>\n",
              "\n",
              "  <script>\n",
              "    async function quickchart(key) {\n",
              "      const quickchartButtonEl =\n",
              "        document.querySelector('#' + key + ' button');\n",
              "      quickchartButtonEl.disabled = true;  // To prevent multiple clicks.\n",
              "      quickchartButtonEl.classList.add('colab-df-spinner');\n",
              "      try {\n",
              "        const charts = await google.colab.kernel.invokeFunction(\n",
              "            'suggestCharts', [key], {});\n",
              "      } catch (error) {\n",
              "        console.error('Error during call to suggestCharts:', error);\n",
              "      }\n",
              "      quickchartButtonEl.classList.remove('colab-df-spinner');\n",
              "      quickchartButtonEl.classList.add('colab-df-quickchart-complete');\n",
              "    }\n",
              "    (() => {\n",
              "      let quickchartButtonEl =\n",
              "        document.querySelector('#df-0307698d-fd04-4391-b450-1ddadd64c228 button');\n",
              "      quickchartButtonEl.style.display =\n",
              "        google.colab.kernel.accessAllowed ? 'block' : 'none';\n",
              "    })();\n",
              "  </script>\n",
              "</div>\n",
              "\n",
              "  <div id=\"id_47921c90-3ad9-44a5-96b9-d27b5116f75c\">\n",
              "    <style>\n",
              "      .colab-df-generate {\n",
              "        background-color: #E8F0FE;\n",
              "        border: none;\n",
              "        border-radius: 50%;\n",
              "        cursor: pointer;\n",
              "        display: none;\n",
              "        fill: #1967D2;\n",
              "        height: 32px;\n",
              "        padding: 0 0 0 0;\n",
              "        width: 32px;\n",
              "      }\n",
              "\n",
              "      .colab-df-generate:hover {\n",
              "        background-color: #E2EBFA;\n",
              "        box-shadow: 0px 1px 2px rgba(60, 64, 67, 0.3), 0px 1px 3px 1px rgba(60, 64, 67, 0.15);\n",
              "        fill: #174EA6;\n",
              "      }\n",
              "\n",
              "      [theme=dark] .colab-df-generate {\n",
              "        background-color: #3B4455;\n",
              "        fill: #D2E3FC;\n",
              "      }\n",
              "\n",
              "      [theme=dark] .colab-df-generate:hover {\n",
              "        background-color: #434B5C;\n",
              "        box-shadow: 0px 1px 3px 1px rgba(0, 0, 0, 0.15);\n",
              "        filter: drop-shadow(0px 1px 2px rgba(0, 0, 0, 0.3));\n",
              "        fill: #FFFFFF;\n",
              "      }\n",
              "    </style>\n",
              "    <button class=\"colab-df-generate\" onclick=\"generateWithVariable('comperativeColumn_result')\"\n",
              "            title=\"Generate code using this dataframe.\"\n",
              "            style=\"display:none;\">\n",
              "\n",
              "  <svg xmlns=\"http://www.w3.org/2000/svg\" height=\"24px\"viewBox=\"0 0 24 24\"\n",
              "       width=\"24px\">\n",
              "    <path d=\"M7,19H8.4L18.45,9,17,7.55,7,17.6ZM5,21V16.75L18.45,3.32a2,2,0,0,1,2.83,0l1.4,1.43a1.91,1.91,0,0,1,.58,1.4,1.91,1.91,0,0,1-.58,1.4L9.25,21ZM18.45,9,17,7.55Zm-12,3A5.31,5.31,0,0,0,4.9,8.1,5.31,5.31,0,0,0,1,6.5,5.31,5.31,0,0,0,4.9,4.9,5.31,5.31,0,0,0,6.5,1,5.31,5.31,0,0,0,8.1,4.9,5.31,5.31,0,0,0,12,6.5,5.46,5.46,0,0,0,6.5,12Z\"/>\n",
              "  </svg>\n",
              "    </button>\n",
              "    <script>\n",
              "      (() => {\n",
              "      const buttonEl =\n",
              "        document.querySelector('#id_47921c90-3ad9-44a5-96b9-d27b5116f75c button.colab-df-generate');\n",
              "      buttonEl.style.display =\n",
              "        google.colab.kernel.accessAllowed ? 'block' : 'none';\n",
              "\n",
              "      buttonEl.onclick = () => {\n",
              "        google.colab.notebook.generateWithVariable('comperativeColumn_result');\n",
              "      }\n",
              "      })();\n",
              "    </script>\n",
              "  </div>\n",
              "\n",
              "    </div>\n",
              "  </div>\n"
            ],
            "application/vnd.google.colaboratory.intrinsic+json": {
              "type": "dataframe",
              "variable_name": "comperativeColumn_result",
              "summary": "{\n  \"name\": \"comperativeColumn_result\",\n  \"rows\": 11,\n  \"fields\": [\n    {\n      \"column\": \"work_year\",\n      \"properties\": {\n        \"dtype\": \"category\",\n        \"num_unique_values\": 2,\n        \"samples\": [\n          \"There is no relationship\",\n          \"There is a relationship\"\n        ],\n        \"semantic_type\": \"\",\n        \"description\": \"\"\n      }\n    },\n    {\n      \"column\": \"experience_level\",\n      \"properties\": {\n        \"dtype\": \"category\",\n        \"num_unique_values\": 2,\n        \"samples\": [\n          \"There is no relationship\",\n          \"There is a relationship\"\n        ],\n        \"semantic_type\": \"\",\n        \"description\": \"\"\n      }\n    },\n    {\n      \"column\": \"employment_type\",\n      \"properties\": {\n        \"dtype\": \"category\",\n        \"num_unique_values\": 2,\n        \"samples\": [\n          \"There is no relationship\",\n          \"There is a relationship\"\n        ],\n        \"semantic_type\": \"\",\n        \"description\": \"\"\n      }\n    },\n    {\n      \"column\": \"job_title\",\n      \"properties\": {\n        \"dtype\": \"category\",\n        \"num_unique_values\": 2,\n        \"samples\": [\n          \"There is no relationship\",\n          \"There is a relationship\"\n        ],\n        \"semantic_type\": \"\",\n        \"description\": \"\"\n      }\n    },\n    {\n      \"column\": \"salary\",\n      \"properties\": {\n        \"dtype\": \"category\",\n        \"num_unique_values\": 2,\n        \"samples\": [\n          \"There is a relationship\",\n          \"There is no relationship\"\n        ],\n        \"semantic_type\": \"\",\n        \"description\": \"\"\n      }\n    },\n    {\n      \"column\": \"salary_currency\",\n      \"properties\": {\n        \"dtype\": \"category\",\n        \"num_unique_values\": 2,\n        \"samples\": [\n          \"There is no relationship\",\n          \"There is a relationship\"\n        ],\n        \"semantic_type\": \"\",\n        \"description\": \"\"\n      }\n    },\n    {\n      \"column\": \"salary_in_usd\",\n      \"properties\": {\n        \"dtype\": \"category\",\n        \"num_unique_values\": 2,\n        \"samples\": [\n          \"There is a relationship\",\n          \"There is no relationship\"\n        ],\n        \"semantic_type\": \"\",\n        \"description\": \"\"\n      }\n    },\n    {\n      \"column\": \"employee_residence\",\n      \"properties\": {\n        \"dtype\": \"category\",\n        \"num_unique_values\": 2,\n        \"samples\": [\n          \"There is no relationship\",\n          \"There is a relationship\"\n        ],\n        \"semantic_type\": \"\",\n        \"description\": \"\"\n      }\n    },\n    {\n      \"column\": \"remote_ratio\",\n      \"properties\": {\n        \"dtype\": \"category\",\n        \"num_unique_values\": 2,\n        \"samples\": [\n          \"There is no relationship\",\n          \"There is a relationship\"\n        ],\n        \"semantic_type\": \"\",\n        \"description\": \"\"\n      }\n    },\n    {\n      \"column\": \"company_location\",\n      \"properties\": {\n        \"dtype\": \"category\",\n        \"num_unique_values\": 2,\n        \"samples\": [\n          \"There is no relationship\",\n          \"There is a relationship\"\n        ],\n        \"semantic_type\": \"\",\n        \"description\": \"\"\n      }\n    },\n    {\n      \"column\": \"company_size\",\n      \"properties\": {\n        \"dtype\": \"category\",\n        \"num_unique_values\": 2,\n        \"samples\": [\n          \"There is no relationship\",\n          \"There is a relationship\"\n        ],\n        \"semantic_type\": \"\",\n        \"description\": \"\"\n      }\n    }\n  ]\n}"
            }
          },
          "metadata": {},
          "execution_count": 41
        }
      ]
    },
    {
      "cell_type": "code",
      "source": [
        "# Create a heatmap\n",
        "sns.heatmap(comperativeColumn_result == 'There is a relationship', annot=True, cmap='coolwarm')\n",
        "plt.title('Hypothesis Test Results')\n",
        "plt.show()"
      ],
      "metadata": {
        "colab": {
          "base_uri": "https://localhost:8080/",
          "height": 581
        },
        "id": "EALZkW_5NRqO",
        "outputId": "29345ab6-4ad2-460d-d142-036903405ce5"
      },
      "execution_count": 44,
      "outputs": [
        {
          "output_type": "display_data",
          "data": {
            "text/plain": [
              "<Figure size 640x480 with 2 Axes>"
            ],
            "image/png": "[encoded data removed]"
          },
          "metadata": {}
        }
      ]
    },
    {
      "cell_type": "markdown",
      "source": [
        "# **Data Visualization**"
      ],
      "metadata": {
        "id": "_FSkVpfRNqVo"
      }
    },
    {
      "cell_type": "code",
      "source": [
        "plt.figure(figsize=(8, 6))\n",
        "sns.scatterplot(x='work_year', y='salary_in_usd', data=df)\n",
        "plt.xlabel('Work Year')\n",
        "plt.ylabel('Salary (USD)')\n",
        "plt.title('Scatter Plot: Work Year vs. Salary')\n",
        "plt.show()"
      ],
      "metadata": {
        "colab": {
          "base_uri": "https://localhost:8080/",
          "height": 564
        },
        "id": "XGJSHrh0Nrpu",
        "outputId": "18528988-d2f9-49c4-81aa-dec0642eb64d"
      },
      "execution_count": 46,
      "outputs": [
        {
          "output_type": "display_data",
          "data": {
            "text/plain": [
              "<Figure size 800x600 with 1 Axes>"
            ],
            "image/png": "[encoded data removed]"
          },
          "metadata": {}
        }
      ]
    },
    {
      "cell_type": "code",
      "source": [
        "sns.pairplot(df[['work_year', 'salary_in_usd', 'remote_ratio', 'company_size']])\n",
        "plt.show()"
      ],
      "metadata": {
        "colab": {
          "base_uri": "https://localhost:8080/",
          "height": 758
        },
        "id": "q-tN13iDPfRm",
        "outputId": "1c0ec2cd-55b8-4401-f2b2-f1ab28eca5b8"
      },
      "execution_count": 47,
      "outputs": [
        {
          "output_type": "display_data",
          "data": {
            "text/plain": [
              "<Figure size 750x750 with 12 Axes>"
            ],
            "image/png": "[encoded data removed]"
          },
          "metadata": {}
        }
      ]
    },
    {
      "cell_type": "code",
      "source": [
        "plt.figure(figsize=(10, 6))\n",
        "sns.barplot(x='experience_level', y='salary_in_usd', data=df)\n",
        "plt.xlabel('Experience Level')\n",
        "plt.ylabel('Mean Salary (USD)')\n",
        "plt.title('Bar Plot: Experience Level vs. Mean Salary')\n",
        "plt.xticks(rotation=45)\n",
        "plt.show()"
      ],
      "metadata": {
        "colab": {
          "base_uri": "https://localhost:8080/",
          "height": 574
        },
        "id": "8x5jmTi0Pm8o",
        "outputId": "a57b4435-b1da-4243-ebe7-721232944671"
      },
      "execution_count": 48,
      "outputs": [
        {
          "output_type": "display_data",
          "data": {
            "text/plain": [
              "<Figure size 1000x600 with 1 Axes>"
            ],
            "image/png": "[encoded data removed]"
          },
          "metadata": {}
        }
      ]
    },
    {
      "cell_type": "code",
      "source": [
        "plt.figure(figsize=(10, 6))\n",
        "sns.boxplot(x='employment_type', y='salary_in_usd', data=df)\n",
        "plt.xlabel('Employment Type')\n",
        "plt.ylabel('Salary (USD)')\n",
        "plt.title('Box Plot: Employment Type vs. Salary')\n",
        "plt.xticks(rotation=45)\n",
        "plt.show()"
      ],
      "metadata": {
        "colab": {
          "base_uri": "https://localhost:8080/",
          "height": 573
        },
        "id": "kQK28pTrPsxv",
        "outputId": "597dcfe4-785c-4a0e-f104-504b827741f0"
      },
      "execution_count": 49,
      "outputs": [
        {
          "output_type": "display_data",
          "data": {
            "text/plain": [
              "<Figure size 1000x600 with 1 Axes>"
            ],
            "image/png": "[encoded data removed]"
          },
          "metadata": {}
        }
      ]
    },
    {
      "cell_type": "code",
      "source": [
        "ct = pd.crosstab(df['company_size'], df['remote_ratio'])\n",
        "ct.plot(kind='bar', stacked=True, figsize=(10, 6))\n",
        "plt.xlabel('Company Size')\n",
        "plt.ylabel('Count')\n",
        "plt.title('Stacked Bar Plot: Remote Ratio by Company Size')\n",
        "plt.xticks(rotation=45)\n",
        "plt.legend(title='Remote Ratio')\n",
        "plt.show()"
      ],
      "metadata": {
        "colab": {
          "base_uri": "https://localhost:8080/",
          "height": 568
        },
        "id": "NtMZNOvUPvov",
        "outputId": "313674c2-8cbb-4dce-ee5b-1a49428c7070"
      },
      "execution_count": 50,
      "outputs": [
        {
          "output_type": "display_data",
          "data": {
            "text/plain": [
              "<Figure size 1000x600 with 1 Axes>"
            ],
            "image/png": "[encoded data removed]"
          },
          "metadata": {}
        }
      ]
    },
    {
      "cell_type": "markdown",
      "source": [
        "# **Preprocessing**"
      ],
      "metadata": {
        "id": "_q8FIZ3uLIVN"
      }
    },
    {
      "cell_type": "code",
      "source": [
        "columns=['experience_level', 'employment_type', 'job_title',\n",
        "       'salary_currency', 'employee_residence',\n",
        "       'company_location', 'company_size']"
      ],
      "metadata": {
        "id": "QpCSuUc-LI1x"
      },
      "execution_count": 45,
      "outputs": []
    },
    {
      "cell_type": "code",
      "source": [
        "encode = OrdinalEncoder()\n",
        "for i in columns:\n",
        "  df[i] = encode.fit_transform(df[[i]])"
      ],
      "metadata": {
        "id": "Jzq7dSaWP_zg"
      },
      "execution_count": 52,
      "outputs": []
    },
    {
      "cell_type": "markdown",
      "source": [
        "# **Machine Learning**"
      ],
      "metadata": {
        "id": "t7L_HtMcRAQ_"
      }
    },
    {
      "cell_type": "code",
      "source": [
        "# 2 separating independent and dependent\n",
        "x = df.drop([\"salary\", \"salary_currency\", \"salary_in_usd\"], axis = 1)\n",
        "y = df[\"salary_in_usd\"]\n",
        "# 3 identifying algorithms/Model\n",
        "x_train, x_test, y_train, y_test = train_test_split(x,y,test_size = 0.15)\n",
        "# 4 training\n",
        "model = AdaBoostRegressor().fit(x_train, y_train)\n",
        "y_pred = model.predict(x_test)"
      ],
      "metadata": {
        "id": "pJ4C_6H1Q_wP"
      },
      "execution_count": 55,
      "outputs": []
    },
    {
      "cell_type": "code",
      "source": [
        "mse = mean_squared_error(y_test, y_pred)\n",
        "mse"
      ],
      "metadata": {
        "colab": {
          "base_uri": "https://localhost:8080/"
        },
        "id": "drW6AvUSRkk-",
        "outputId": "65fb5639-b93c-420b-d8e6-e1b1373b4834"
      },
      "execution_count": 56,
      "outputs": [
        {
          "output_type": "execute_result",
          "data": {
            "text/plain": [
              "4148842786.157013"
            ]
          },
          "metadata": {},
          "execution_count": 56
        }
      ]
    },
    {
      "cell_type": "code",
      "source": [
        "# 5 evaluation\n",
        "input = np.array([[2024, 2, 3, 24, 85, 50, 66, 0]])\n",
        "prediction = model.predict(input)\n",
        "prediction"
      ],
      "metadata": {
        "colab": {
          "base_uri": "https://localhost:8080/"
        },
        "id": "BAdfu44-RPs2",
        "outputId": "b26cb100-c8d3-450c-c8e7-d1a5ce3a1d1d"
      },
      "execution_count": 58,
      "outputs": [
        {
          "output_type": "stream",
          "name": "stderr",
          "text": [
            "/usr/local/lib/python3.10/dist-packages/sklearn/base.py:439: UserWarning: X does not have valid feature names, but AdaBoostRegressor was fitted with feature names\n",
            "  warnings.warn(\n"
          ]
        },
        {
          "output_type": "execute_result",
          "data": {
            "text/plain": [
              "array([154721.01899179])"
            ]
          },
          "metadata": {},
          "execution_count": 58
        }
      ]
    }
  ]
}